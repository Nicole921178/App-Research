{
 "cells": [
  {
   "cell_type": "markdown",
   "metadata": {},
   "source": [
    "#本脚本用于提取客户发来的PDF格式的Spare Part订单中的信息，减少重复手动提取信息，由于内部信息，不方便提供PDF原件参考"
   ]
  },
  {
   "cell_type": "code",
   "execution_count": 116,
   "metadata": {},
   "outputs": [
    {
     "name": "stdout",
     "output_type": "stream",
     "text": [
      "Spare Part Order 06021 - Case 128192 - SISL (HTL Manufacturing Pte Lt.pdf\n"
     ]
    }
   ],
   "source": [
    "#提取PDF内部信息，并将转换成文本格式\n",
    "import PyPDF2\n",
    "from PyPDF2 import PdfFileReader \n",
    "faddress = input()\n",
    "pdfFileObj = open(faddress,'rb') \n",
    "\n",
    "pdfReader = PyPDF2.PdfFileReader(pdfFileObj) \n",
    "\n",
    "\n",
    "pageObj = pdfReader.getPage(0) \n",
    "\n",
    "txt1 = pageObj.extractText()\n",
    "\n",
    "\n",
    "pdfFileObj.close() "
   ]
  },
  {
   "cell_type": "code",
   "execution_count": 117,
   "metadata": {},
   "outputs": [
    {
     "name": "stdout",
     "output_type": "stream",
     "text": [
      "Spare Part Order 06021\n",
      "<_io.TextIOWrapper name='summary.txt' mode='a' encoding='cp936'>\n"
     ]
    }
   ],
   "source": [
    "#提取DPF名中的订单号信息，并将订单号存储于汇总summary文本中\n",
    "def extract_information(pdf_path): \n",
    "    with open(pdf_path, 'rb') as f: \n",
    "        pdf = PdfFileReader(f) \n",
    "        information = pdf.getDocumentInfo() \n",
    "        txt = f\"{pdf_path}: \" \n",
    "        \n",
    "    order = txt[0:22]\n",
    "    print(order)\n",
    "    \n",
    "    f = open(\"summary.txt\",\"a\")\n",
    "    str_order_number = repr(order)\n",
    "    f.write(str_order_number)\n",
    "    print(f)\n",
    "    f.close()\n",
    "    return information \n",
    "\n",
    "if __name__ == '__main__': \n",
    "    path = faddress\n",
    "    extract_information(path)"
   ]
  },
  {
   "cell_type": "code",
   "execution_count": 118,
   "metadata": {},
   "outputs": [
    {
     "name": "stdout",
     "output_type": "stream",
     "text": [
      "<class '_io.TextIOWrapper'>\n"
     ]
    }
   ],
   "source": [
    "# 将PDF已转换成的文本形式的内容，一次性存储在01.txt文本中\n",
    "newtxt  = open(\"01.txt\",\"w\")\n",
    "str_txt1 = repr(txt1)\n",
    "newtxt.write(str_txt1)\n",
    "print(type(newtxt))\n",
    "newtxt.close()"
   ]
  },
  {
   "cell_type": "code",
   "execution_count": 119,
   "metadata": {},
   "outputs": [
    {
     "name": "stdout",
     "output_type": "stream",
     "text": [
      "<class 'list'>\n"
     ]
    }
   ],
   "source": [
    "#读取文本中的信息，并将其转换成list\n",
    "f = open('01.txt',\"r\")\n",
    "content = f.read()\n",
    "f.close()\n",
    "content_list = content.split(\"\\\\n\")\n",
    "print(type(content_list))"
   ]
  },
  {
   "cell_type": "code",
   "execution_count": 120,
   "metadata": {},
   "outputs": [
    {
     "name": "stdout",
     "output_type": "stream",
     "text": [
      "06021\n",
      "09/04/2021\n",
      "10\n",
      "24269803 Asher Armchair 1(E/Mo) Belfast Dove\n",
      "MECHANISM\n",
      "Faulty\n"
     ]
    }
   ],
   "source": [
    "#提取list中需要的信息\n",
    "print(content_list[7])\n",
    "order_number = content_list[7]\n",
    "print(content_list[20])\n",
    "order_date =content_list[20]\n",
    "print(len(order_date))\n",
    "print(content_list[35])\n",
    "item = content_list[35]\n",
    "print(content_list[36])\n",
    "part =content_list[36]\n",
    "print(content_list[15])\n",
    "reason = content_list[15]"
   ]
  },
  {
   "cell_type": "code",
   "execution_count": 121,
   "metadata": {},
   "outputs": [
    {
     "name": "stdout",
     "output_type": "stream",
     "text": [
      "<_io.TextIOWrapper name='summary.txt' mode='a' encoding='cp936'>\n"
     ]
    }
   ],
   "source": [
    "#将所需信息汇总到summary文本中\n",
    "f = open(\"summary.txt\",\"a\")\n",
    "str_order_date = repr(order_date)\n",
    "str_item = repr(item)\n",
    "str_part = repr(item)\n",
    "str_reason = repr(reason)\n",
    "#若订单PDF格式与我所设定的不一致，将输出提示“PDF format wrong!”\n",
    "if len(order_date)==10:\n",
    "    f.write(str_order_date+str_item+str_part+str_reason+\"\\n\")\n",
    "else:\n",
    "    f.write(\"PDF format wrong!\"+\"\\n\")\n",
    "print(f)\n",
    "f.close()"
   ]
  },
  {
   "cell_type": "code",
   "execution_count": 122,
   "metadata": {},
   "outputs": [
    {
     "name": "stdout",
     "output_type": "stream",
     "text": [
      "'Spare Part Order 05889''14/03/2021''23649378 Galaxy Chaise RH w Recliner 1.25S NewClub''23649378 Galaxy Chaise RH w Recliner 1.25S NewClub''Faulty Parts'\n",
      "'Spare Part Order 05976''30/03/2021''23718425 SIG Contemp (STD) Storage Ottoman 120x60cm ''23718425 SIG Contemp (STD) Storage Ottoman 120x60cm ''Incorrect Parts'\n",
      "'Spare Part Order 06000'PDF format wrong!\n",
      "'Spare Part Order 06020''09/04/2021''24262323 Asher Sofa 2(E/Mot) 3S Lucia Silver Grey''24262323 Asher Sofa 2(E/Mot) 3S Lucia Silver Grey''Faulty'\n",
      "'Spare Part Order 06021''09/04/2021''24269803 Asher Armchair 1(E/Mo) Belfast Dove''24269803 Asher Armchair 1(E/Mo) Belfast Dove''Faulty'\n",
      "'Spare Part Order 06027''09/04/2021''24269582 Asher Sofa 2(E/Mot) 3S Belfast Navy''24269582 Asher Sofa 2(E/Mot) 3S Belfast Navy''Faulty'\n",
      "'Spare Part Order 05889''14/03/2021''23649378 Galaxy Chaise RH w Recliner 1.25S NewClub''23649378 Galaxy Chaise RH w Recliner 1.25S NewClub''Faulty Parts'\n",
      "'Spare Part Order 06021''09/04/2021''24269803 Asher Armchair 1(E/Mo) Belfast Dove''24269803 Asher Armchair 1(E/Mo) Belfast Dove''Faulty'\n",
      "\n"
     ]
    }
   ],
   "source": [
    "#查看结果，打印summary文本中的内容\n",
    "f = open(\"summary.txt\",\"r\")\n",
    "summary_txt = f.read()\n",
    "print(summary_txt)\n",
    "f.close()"
   ]
  }
 ],
 "metadata": {
  "kernelspec": {
   "display_name": "Python 3",
   "language": "python",
   "name": "python3"
  },
  "language_info": {
   "codemirror_mode": {
    "name": "ipython",
    "version": 3
   },
   "file_extension": ".py",
   "mimetype": "text/x-python",
   "name": "python",
   "nbconvert_exporter": "python",
   "pygments_lexer": "ipython3",
   "version": "3.8.3"
  }
 },
 "nbformat": 4,
 "nbformat_minor": 4
}
