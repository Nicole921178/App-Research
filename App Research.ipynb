{
 "cells": [
  {
   "cell_type": "markdown",
   "metadata": {},
   "source": [
    "# Profitable App Profiles for the App Store and Google Play Markets¶"
   ]
  },
  {
   "cell_type": "markdown",
   "metadata": {},
   "source": [
    "Our aim in this project is to find mobile app profiles that are profitable for the App Store and Google Play markets. We're working as data analysts for a company that builds Android and iOS mobile apps, and our job is to enable our team of developers to make data-driven decisions with respect to the kind of apps they build.\n",
    "\n",
    "At our company, we only build apps that are free to download and install, and our main source of revenue consists of in-app ads. This means that our revenue for any given app is mostly influenced by the number of users that use our app. Our goal for this project is to analyze data to help our developers understand what kinds of apps are likely to attract more users."
   ]
  },
  {
   "cell_type": "markdown",
   "metadata": {},
   "source": [
    "## Oening and Exploring the Data"
   ]
  },
  {
   "cell_type": "markdown",
   "metadata": {},
   "source": [
    "As of September 2018, there were approximately 2 million iOS apps available on the App Store, and 2.1 million Android apps on Google Play.\n",
    "\n",
    "Collecting data for over four million apps requires a significant amount of time and money, so we'll try to analyze a sample of data instead. To avoid spending resources with collecting new data ourselves, we should first try to see whether we can find any relevant existing data at no cost. Luckily, these are two data sets that seem suitable for our purpose:\n"
   ]
  },
  {
   "cell_type": "code",
   "execution_count": 683,
   "metadata": {},
   "outputs": [],
   "source": [
    "from csv import reader\n",
    "\n",
    "### The Google Play data set ###\n",
    "opened_file = open(r'C:\\Users\\Administrator\\Desktop\\test\\googleplaystore.csv', encoding='utf8')# why use 'r' and ', encoding='utf8' ???\n",
    "read_file = reader(opened_file)\n",
    "android = list(read_file)\n",
    "android_header = android[0]\n",
    "android = android[1:]\n",
    "\n",
    "### The App Store data set ###\n",
    "opened_file =open(r'C:\\Users\\Administrator\\Desktop\\test\\AppleStore.csv', encoding='utf8')\n",
    "read_file = reader(opened_file)\n",
    "ios = list(read_file)\n",
    "ios_header =ios[0]\n",
    "ios = ios[1:]"
   ]
  },
  {
   "cell_type": "markdown",
   "metadata": {},
   "source": [
    "To make it easier to explore the two data sets, we'll first write a function named explore_data() that we can use repeatedly to explore rows in a more readable way. We'll also add an option for our function to show the number of rows and columns for any data set."
   ]
  },
  {
   "cell_type": "code",
   "execution_count": 684,
   "metadata": {},
   "outputs": [
    {
     "name": "stdout",
     "output_type": "stream",
     "text": [
      "['App', 'Category', 'Rating', 'Reviews', 'Size', 'Installs', 'Type', 'Price', 'Content Rating', 'Genres', 'Last Updated', 'Current Ver', 'Android Ver']\n",
      "\n",
      "\n",
      "['Photo Editor & Candy Camera & Grid & ScrapBook', 'ART_AND_DESIGN', '4.1', '159', '19M', '10,000+', 'Free', '0', 'Everyone', 'Art & Design', 'January 7, 2018', '1.0.0', '4.0.3 and up']\n",
      "\n",
      "\n",
      "['Coloring book moana', 'ART_AND_DESIGN', '3.9', '967', '14M', '500,000+', 'Free', '0', 'Everyone', 'Art & Design;Pretend Play', 'January 15, 2018', '2.0.0', '4.0.3 and up']\n",
      "\n",
      "\n",
      "['U Launcher Lite – FREE Live Cool Themes, Hide Apps', 'ART_AND_DESIGN', '4.7', '87510', '8.7M', '5,000,000+', 'Free', '0', 'Everyone', 'Art & Design', 'August 1, 2018', '1.2.4', '4.0.3 and up']\n",
      "\n",
      "\n",
      "Number of Rows: 10841\n",
      "Number of Columns: 13\n"
     ]
    }
   ],
   "source": [
    "def explore_data(dataset, start, end, rows_and_columns=False):\n",
    "    data_slice =dataset[start: end]\n",
    "    for row in data_slice:\n",
    "        print(row)\n",
    "        print('\\n')\n",
    "    if rows_and_columns:\n",
    "        print('Number of Rows:', len(dataset))\n",
    "        print('Number of Columns:',len(dataset[0]))\n",
    "\n",
    "print(android_header)\n",
    "print('\\n')\n",
    "        \n",
    "explore_data(android, 0, 3, True)    \n"
   ]
  },
  {
   "cell_type": "markdown",
   "metadata": {},
   "source": [
    "We can see that Google Play data set has 10841 Apps and 13 columns. At a quick glance the columns that can be useful are :App, Category, Rating, Type, Price, Content rating"
   ]
  },
  {
   "cell_type": "markdown",
   "metadata": {},
   "source": [
    "Now let's look at App Store data set"
   ]
  },
  {
   "cell_type": "code",
   "execution_count": 685,
   "metadata": {},
   "outputs": [
    {
     "name": "stdout",
     "output_type": "stream",
     "text": [
      "['id', 'track_name', 'size_bytes', 'currency', 'price', 'rating_count_tot', 'rating_count_ver', 'user_rating', 'user_rating_ver', 'ver', 'cont_rating', 'prime_genre', 'sup_devices.num', 'ipadSc_urls.num', 'lang.num', 'vpp_lic']\n",
      "\n",
      "\n",
      "['284882215', 'Facebook', '389879808', 'USD', '0.0', '2974676', '212', '3.5', '3.5', '95.0', '4+', 'Social Networking', '37', '1', '29', '1']\n",
      "\n",
      "\n",
      "['389801252', 'Instagram', '113954816', 'USD', '0.0', '2161558', '1289', '4.5', '4.0', '10.23', '12+', 'Photo & Video', '37', '0', '29', '1']\n",
      "\n",
      "\n",
      "['529479190', 'Clash of Clans', '116476928', 'USD', '0.0', '2130805', '579', '4.5', '4.5', '9.24.12', '9+', 'Games', '38', '5', '18', '1']\n",
      "\n",
      "\n",
      "Number of Rows: 7197\n",
      "Number of Columns: 16\n"
     ]
    }
   ],
   "source": [
    "print(ios_header)\n",
    "print('\\n')\n",
    "explore_data(ios,0,3,True)"
   ]
  },
  {
   "cell_type": "markdown",
   "metadata": {},
   "source": [
    "We have 7197 App in the App Store data set, and the columns seem interesting are: track_name, currency, price, rating_count_ver, prime_genre"
   ]
  },
  {
   "cell_type": "markdown",
   "metadata": {},
   "source": [
    "## Deleting Wrong Data"
   ]
  },
  {
   "cell_type": "markdown",
   "metadata": {},
   "source": [
    "Check if there is an erro in android data set"
   ]
  },
  {
   "cell_type": "code",
   "execution_count": 686,
   "metadata": {},
   "outputs": [
    {
     "name": "stdout",
     "output_type": "stream",
     "text": [
      "['Life Made WI-Fi Touchscreen Photo Frame', '1.9', '19', '3.0M', '1,000+', 'Free', '0', 'Everyone', '', 'February 11, 2018', '1.0.19', '4.0 and up']\n",
      "erro row index:10472\n"
     ]
    }
   ],
   "source": [
    "for row in android:\n",
    "    if len(row) != len(android_header):\n",
    "        print(row)\n",
    "        erro_row_index = android.index(row)\n",
    "        print('erro row index:'+ str(erro_row_index))"
   ]
  },
  {
   "cell_type": "markdown",
   "metadata": {},
   "source": [
    "Remove the erro row in android data set"
   ]
  },
  {
   "cell_type": "code",
   "execution_count": 687,
   "metadata": {},
   "outputs": [
    {
     "name": "stdout",
     "output_type": "stream",
     "text": [
      "['osmino Wi-Fi: free WiFi', 'TOOLS', '4.2', '134203', '4.1M', '10,000,000+', 'Free', '0', 'Everyone', 'Tools', 'August 7, 2018', '6.06.14', '4.4 and up']\n"
     ]
    }
   ],
   "source": [
    "del android[erro_row_index]\n",
    "print(android[10472])\n"
   ]
  },
  {
   "cell_type": "markdown",
   "metadata": {},
   "source": [
    "Check if there is a erro in App Store data set like in android data set"
   ]
  },
  {
   "cell_type": "code",
   "execution_count": 688,
   "metadata": {},
   "outputs": [],
   "source": [
    "for row in ios:\n",
    "    if len(row) != len(ios_header):\n",
    "        print(row)\n",
    "        print(ios.index(row))"
   ]
  },
  {
   "cell_type": "markdown",
   "metadata": {},
   "source": [
    "## Removing Duplicate Entries"
   ]
  },
  {
   "cell_type": "markdown",
   "metadata": {},
   "source": [
    "### Part 1"
   ]
  },
  {
   "cell_type": "markdown",
   "metadata": {},
   "source": [
    "Find the duplicate entries"
   ]
  },
  {
   "cell_type": "code",
   "execution_count": 689,
   "metadata": {},
   "outputs": [
    {
     "name": "stdout",
     "output_type": "stream",
     "text": [
      "['Facebook', 'SOCIAL', '4.1', '78158306', 'Varies with device', '1,000,000,000+', 'Free', '0', 'Teen', 'Social', 'August 3, 2018', 'Varies with device', 'Varies with device']\n",
      "['Facebook', 'SOCIAL', '4.1', '78128208', 'Varies with device', '1,000,000,000+', 'Free', '0', 'Teen', 'Social', 'August 3, 2018', 'Varies with device', 'Varies with device']\n"
     ]
    }
   ],
   "source": [
    "for app in android:\n",
    "    name = app[0]\n",
    "    if name == 'Facebook':\n",
    "        print(app)"
   ]
  },
  {
   "cell_type": "code",
   "execution_count": 690,
   "metadata": {},
   "outputs": [
    {
     "name": "stdout",
     "output_type": "stream",
     "text": [
      "Number of Duplicate Apps: 1181\n",
      "Examples of Duplicte Apps: ['Quick PDF Scanner + OCR FREE', 'Box', 'Google My Business', 'ZOOM Cloud Meetings', 'join.me - Simple Meetings']\n",
      "Number of Unique Apps: 9659\n"
     ]
    }
   ],
   "source": [
    "duplicate_apps = []\n",
    "unique_apps = []\n",
    "for app in android:\n",
    "    name = app[0]\n",
    "    if name in unique_apps:\n",
    "        duplicate_apps.append(name)\n",
    "    else:\n",
    "        unique_apps.append(name)\n",
    "\n",
    "print('Number of Duplicate Apps:',len(duplicate_apps))\n",
    "print('Examples of Duplicte Apps:',duplicate_apps[0:5])\n",
    "print('Number of Unique Apps:',len(unique_apps))"
   ]
  },
  {
   "cell_type": "markdown",
   "metadata": {},
   "source": [
    "def explore_duplicate_entries(dataset):\n",
    "    duplicate_app = []\n",
    "    unique_app = []\n",
    "    for app in dataset:\n",
    "        name = app[0]\n",
    "        if name in dataset:\n",
    "            duplicate_app.append(name)\n",
    "        else:\n",
    "            unique_app.append(name)    \n",
    "            \n",
    "print('Number of Duplicate Apps:',len(duplicate_app))\n",
    "print('Examples of Duplicte Apps:',duplicate_apps[0:5])\n",
    "    \n",
    "explore_duplicate_entries(ios)\n",
    "#奇怪这个function 没用，输出的还是Android表的内容!"
   ]
  },
  {
   "cell_type": "code",
   "execution_count": 691,
   "metadata": {},
   "outputs": [
    {
     "name": "stdout",
     "output_type": "stream",
     "text": [
      "['284882215', 'Facebook', '389879808', 'USD', '0.0', '2974676', '212', '3.5', '3.5', '95.0', '4+', 'Social Networking', '37', '1', '29', '1']\n"
     ]
    }
   ],
   "source": [
    "for app in ios:\n",
    "    name = app[1]\n",
    "    if name == 'Facebook':\n",
    "        print(app)"
   ]
  },
  {
   "cell_type": "markdown",
   "metadata": {},
   "source": [
    "App Store中的app，很少可以忽略不计"
   ]
  },
  {
   "cell_type": "code",
   "execution_count": 692,
   "metadata": {},
   "outputs": [
    {
     "name": "stdout",
     "output_type": "stream",
     "text": [
      "Number of Duplicate Apps: 2\n",
      "Examples of Duplicte Apps: ['Mannequin Challenge', 'VR Roller Coaster']\n",
      "Number of Unique Apps: 7195\n"
     ]
    }
   ],
   "source": [
    "duplicate_apps_ios = []\n",
    "unique_apps_ios = []\n",
    "for app in ios:\n",
    "    name = app[1]\n",
    "    if name in unique_apps_ios:\n",
    "        duplicate_apps_ios.append(name)\n",
    "    else:\n",
    "        unique_apps_ios.append(name)\n",
    "\n",
    "print('Number of Duplicate Apps:',len(duplicate_apps_ios))\n",
    "print('Examples of Duplicte Apps:',duplicate_apps_ios[0:5])\n",
    "print('Number of Unique Apps:',len(unique_apps_ios))"
   ]
  },
  {
   "cell_type": "markdown",
   "metadata": {},
   "source": [
    "### Part 2"
   ]
  },
  {
   "cell_type": "markdown",
   "metadata": {},
   "source": [
    "Rather than remove the duplicate rows randomly, We'll only keep the row with highest number of reviews and remove other rows\n",
    "删除重复项中review数量较小的app，新建字典 reviews_max中仅保留重复项中review 最高的app 名称和其相应的review数"
   ]
  },
  {
   "cell_type": "code",
   "execution_count": 693,
   "metadata": {},
   "outputs": [
    {
     "name": "stdout",
     "output_type": "stream",
     "text": [
      "9659\n"
     ]
    }
   ],
   "source": [
    "reviews_max ={}\n",
    "for app in android:\n",
    "    name = app[0]\n",
    "    n_reviews = float(app[3])\n",
    "    if name in reviews_max and reviews_max[name]<n_reviews:\n",
    "        reviews_max [name]= n_reviews\n",
    "    elif name not in reviews_max:\n",
    "        reviews_max[name] = n_reviews\n",
    "        \n",
    "print(len(reviews_max))\n"
   ]
  },
  {
   "cell_type": "markdown",
   "metadata": {},
   "source": [
    "利用先前建立的reviews_max 字典，根据对应的reveiws数将所有app（无重复）的信息，录入一个新的android_clean表中。注意：其中用reviews数作为参考，还添加了name not in already_added, 是因为不同APP会有reviews数。"
   ]
  },
  {
   "cell_type": "code",
   "execution_count": 694,
   "metadata": {},
   "outputs": [
    {
     "name": "stdout",
     "output_type": "stream",
     "text": [
      "9659\n"
     ]
    }
   ],
   "source": [
    "\n",
    "android_clean = []\n",
    "already_added = []\n",
    "\n",
    "for app in android:\n",
    "    name = app[0]\n",
    "    n_reviews = float(app[3])\n",
    "    \n",
    "    if (reviews_max[name] == n_reviews) and (name not in already_added):\n",
    "        android_clean.append(app)\n",
    "        already_added.append(name) # make sure this is inside the if block\n",
    "        \n",
    "print(len(android_clean))"
   ]
  },
  {
   "cell_type": "markdown",
   "metadata": {},
   "source": [
    "发现个严重的问题，有些没有定义的变量名居然不会报错？？？郁闷了例如：reviews_max ={}\n",
    "for app in android:\n",
    "    name = app[0]\n",
    "    n_reviews = float(app[3])\n",
    "    if name in reviews_max and reviews_max[name]<n_reviews:\n",
    "        reviews_max [name]= n_reviews\n",
    "    elif name not in reviews_max:\n",
    "        reviews_max[name] = n_rating\n",
    "        \n",
    "        最后一个n_rating 根本没有定义，然鹅我的jupyter notebook 竟然不报错，到底是哪里有问题？"
   ]
  },
  {
   "cell_type": "code",
   "execution_count": 695,
   "metadata": {},
   "outputs": [
    {
     "name": "stdout",
     "output_type": "stream",
     "text": [
      "['Photo Editor & Candy Camera & Grid & ScrapBook', 'ART_AND_DESIGN', '4.1', '159', '19M', '10,000+', 'Free', '0', 'Everyone', 'Art & Design', 'January 7, 2018', '1.0.0', '4.0.3 and up']\n",
      "\n",
      "\n",
      "['U Launcher Lite – FREE Live Cool Themes, Hide Apps', 'ART_AND_DESIGN', '4.7', '87510', '8.7M', '5,000,000+', 'Free', '0', 'Everyone', 'Art & Design', 'August 1, 2018', '1.2.4', '4.0.3 and up']\n",
      "\n",
      "\n",
      "['Sketch - Draw & Paint', 'ART_AND_DESIGN', '4.5', '215644', '25M', '50,000,000+', 'Free', '0', 'Teen', 'Art & Design', 'June 8, 2018', 'Varies with device', '4.2 and up']\n",
      "\n",
      "\n",
      "Number of Rows: 9659\n",
      "Number of Columns: 13\n"
     ]
    }
   ],
   "source": [
    "explore_data(android_clean, 0, 3, True)"
   ]
  },
  {
   "cell_type": "code",
   "execution_count": 696,
   "metadata": {},
   "outputs": [
    {
     "name": "stdout",
     "output_type": "stream",
     "text": [
      "爱奇艺PPS -《欢乐颂2》电视剧热播\n",
      "【脱出ゲーム】絶対に最後までプレイしないで 〜謎解き＆ブロックパズル〜\n",
      "\n",
      "\n",
      "中国語 AQリスニング\n",
      "لعبة تقدر تربح DZ\n"
     ]
    }
   ],
   "source": [
    "print(ios[813][1])\n",
    "print(ios[6731][1])\n",
    "print('\\n')\n",
    "print(android_clean[4412][0])   \n",
    "print(android_clean[7940][0]) "
   ]
  },
  {
   "cell_type": "markdown",
   "metadata": {},
   "source": [
    "删去非英文类APP.\n",
    "可以用ord()函数根据ASCII code 对应的  英文文本常用的字符  范围是（0-127）从而判断非英文APP"
   ]
  },
  {
   "cell_type": "code",
   "execution_count": 697,
   "metadata": {},
   "outputs": [
    {
     "name": "stdout",
     "output_type": "stream",
     "text": [
      "False\n",
      "False\n"
     ]
    }
   ],
   "source": [
    "def is_English(String):\n",
    "    for charater in String:\n",
    "        if ord(charater)>275:\n",
    "            return False\n",
    "    return True\n",
    "\n",
    "print(is_English('爱奇艺PPS'))\n",
    "print(is_English('english 学习'))"
   ]
  },
  {
   "cell_type": "markdown",
   "metadata": {},
   "source": [
    "但是有个问题，如果英文APP名字里有其他符合或者表情other symbols，也会被删除"
   ]
  },
  {
   "cell_type": "code",
   "execution_count": 698,
   "metadata": {},
   "outputs": [
    {
     "name": "stdout",
     "output_type": "stream",
     "text": [
      "False\n",
      "False\n",
      "8482\n",
      "128540\n"
     ]
    }
   ],
   "source": [
    "print(is_English('Docs To Go™ Free Office Suite'))\n",
    "print(is_English('Instachat 😜'))\n",
    "\n",
    "print(ord('™'))\n",
    "print(ord('😜'))"
   ]
  },
  {
   "cell_type": "markdown",
   "metadata": {},
   "source": [
    "To minimize the impact of data loss, we'll only remove an app if its name has more than three non-ASCII characters\n",
    "减少数据损失，我们只删除有3个以上字符不在英文文本范围内（0-127）的APP"
   ]
  },
  {
   "cell_type": "code",
   "execution_count": 699,
   "metadata": {},
   "outputs": [
    {
     "name": "stdout",
     "output_type": "stream",
     "text": [
      "True\n",
      "True\n",
      "False\n",
      "True\n"
     ]
    }
   ],
   "source": [
    "def is_English(String):\n",
    "    not_english_count=0\n",
    "    for charater in String:\n",
    "        if ord(charater)>127:\n",
    "            not_english_count+=1\n",
    "    if not_english_count>3:\n",
    "        return False\n",
    "    else:\n",
    "        return True\n",
    "        \n",
    "print(is_English('Docs To Go™ Free Office Suite'))\n",
    "print(is_English('Instachat 😜'))\n",
    "print(is_English('爱奇艺视频PPS'))\n",
    "print(is_English('english 学习'))"
   ]
  },
  {
   "cell_type": "markdown",
   "metadata": {},
   "source": [
    "使用is_English function 过滤数据表中的非英文APP"
   ]
  },
  {
   "cell_type": "code",
   "execution_count": 700,
   "metadata": {},
   "outputs": [
    {
     "name": "stdout",
     "output_type": "stream",
     "text": [
      "['Photo Editor & Candy Camera & Grid & ScrapBook', 'ART_AND_DESIGN', '4.1', '159', '19M', '10,000+', 'Free', '0', 'Everyone', 'Art & Design', 'January 7, 2018', '1.0.0', '4.0.3 and up']\n",
      "\n",
      "\n",
      "['U Launcher Lite – FREE Live Cool Themes, Hide Apps', 'ART_AND_DESIGN', '4.7', '87510', '8.7M', '5,000,000+', 'Free', '0', 'Everyone', 'Art & Design', 'August 1, 2018', '1.2.4', '4.0.3 and up']\n",
      "\n",
      "\n",
      "['Sketch - Draw & Paint', 'ART_AND_DESIGN', '4.5', '215644', '25M', '50,000,000+', 'Free', '0', 'Teen', 'Art & Design', 'June 8, 2018', 'Varies with device', '4.2 and up']\n",
      "\n",
      "\n",
      "Number of Rows: 9614\n",
      "Number of Columns: 13\n",
      "\n",
      "\n",
      "['284882215', 'Facebook', '389879808', 'USD', '0.0', '2974676', '212', '3.5', '3.5', '95.0', '4+', 'Social Networking', '37', '1', '29', '1']\n",
      "\n",
      "\n",
      "['389801252', 'Instagram', '113954816', 'USD', '0.0', '2161558', '1289', '4.5', '4.0', '10.23', '12+', 'Photo & Video', '37', '0', '29', '1']\n",
      "\n",
      "\n",
      "['529479190', 'Clash of Clans', '116476928', 'USD', '0.0', '2130805', '579', '4.5', '4.5', '9.24.12', '9+', 'Games', '38', '5', '18', '1']\n",
      "\n",
      "\n",
      "Number of Rows: 6183\n",
      "Number of Columns: 16\n"
     ]
    }
   ],
   "source": [
    "android_clean_english =[]\n",
    "ios_english=[]\n",
    "for app in android_clean:\n",
    "    if is_English(app[0])== True:\n",
    "       android_clean_english.append(app) \n",
    "    \n",
    "\n",
    "\n",
    "for app in ios:\n",
    "    if is_English(app[1])== True:\n",
    "       ios_english.append(app) \n",
    "    \n",
    "explore_data(android_clean_english, 0, 3, True)    \n",
    "print('\\n')\n",
    "explore_data(ios_english, 0, 3, True)"
   ]
  },
  {
   "cell_type": "markdown",
   "metadata": {},
   "source": [
    "## Isolating the Free Apps"
   ]
  },
  {
   "cell_type": "markdown",
   "metadata": {},
   "source": [
    "因为我们的收入来源是免费APP中植入的广告，现在需要找出所有的付费APP, 去掉所有non-free app"
   ]
  },
  {
   "cell_type": "code",
   "execution_count": 701,
   "metadata": {},
   "outputs": [
    {
     "name": "stdout",
     "output_type": "stream",
     "text": [
      "0\n",
      "0.0\n",
      "3222\n",
      "8864\n"
     ]
    }
   ],
   "source": [
    "android_final =[]\n",
    "ios_final=[]\n",
    "print(android_clean_english[1][7])\n",
    "print(ios_english[1][4])\n",
    "for app in android_clean_english:\n",
    "    price = app[7]\n",
    "    if price == '0':\n",
    "        android_final.append(app)\n",
    "for app in ios_english:\n",
    "    price = app[4]\n",
    "    if price == '0.0':\n",
    "        ios_final.append(app)\n",
    "print(len(ios_english_free))\n",
    "print(len(android_final))"
   ]
  },
  {
   "cell_type": "markdown",
   "metadata": {},
   "source": [
    "## Most common App by Genre"
   ]
  },
  {
   "cell_type": "markdown",
   "metadata": {},
   "source": [
    "### Part 1"
   ]
  },
  {
   "cell_type": "markdown",
   "metadata": {},
   "source": [
    "As we mentioned in the introduction, our aim is to determine the kinds of apps that are likely to attract more users because our revenue is highly influenced by the number of people using our apps.\n",
    "\n",
    "To minimize risks and overhead, our validation strategy for an app idea is comprised of three steps:\n",
    "\n",
    "1.Build a minimal Android version of the app, and add it to Google Play.\n",
    "2.If the app has a good response from users, we then develop it further.\n",
    "3.If the app is profitable after six months, we also build an iOS version of the app and add it to the App Store.\n",
    "Because our end goal is to add the app on both the App Store and Google Play, we need to find app profiles that are successful on both markets. For instance, a profile that might work well for both markets might be a productivity app that makes use of gamification.\n",
    "\n",
    "Let's begin the analysis by getting a sense of the most common genres for each market. For this, we'll build a frequency table for the prime_genre column of the App Store data set, and the Genres and Category columns of the Google Play data set.\n",
    "找出最能吸引用户的APP,因为我们的利润由使用APP的人数所决定的。\n",
    "\n",
    "为了降低风险和减少开销，我们采取了以下三个策略：\n",
    "1. 先做一个低版本的安卓版APP，放Google Play 测试\n",
    "2. 如果app反馈好，再进一步开发\n",
    "3. 如果app六个月后开始盈利，我们将开始开发iOS版app\n",
    "\n",
    "因为我们的最终目标是将app 上架Google Play和App Store，所以我们需要找到在这两个应用商店都成功的APP。\n",
    "\n",
    "先从分析每个平台最常见的app类型。为此我们将建立一个频率表，记录App Store 的prime_genre 列，和Google Play 的Genres and Category"
   ]
  },
  {
   "cell_type": "markdown",
   "metadata": {},
   "source": [
    "### Part 2"
   ]
  },
  {
   "cell_type": "markdown",
   "metadata": {},
   "source": [
    "We'll build two functions we can use to analyze the frequency tables:\n",
    "\n",
    "One function to generate frequency tables that show percentages\n",
    "Another function that we can use to display the percentages in a descending order\n",
    "\n",
    "创建一个可以分析频率的function：\n",
    "一个function生成频率表并显示百分比\n",
    "一个function将按百分比顺序排列显示"
   ]
  },
  {
   "cell_type": "code",
   "execution_count": 702,
   "metadata": {},
   "outputs": [],
   "source": [
    "def freq_table(dataset, index):\n",
    "    table = {}\n",
    "    total = 0\n",
    "    for row in dataset:\n",
    "        total+=1\n",
    "        value = row[index]\n",
    "        if value in table:\n",
    "            table[value]+=1\n",
    "        else:\n",
    "            table[value]=1\n",
    "            \n",
    "    table_percentages = {}\n",
    "    for key in table:\n",
    "        percentage = (table[key]/total)*100\n",
    "        table_percentages[key] = percentage\n",
    "    return table_percentages\n",
    "\n",
    "def display_table(dataset, index):\n",
    "    table = freq_table(dataset,index)\n",
    "    show_table = []\n",
    "    for key in table:\n",
    "        key_val_tuple = (table[key], key)    # 注意因为stored()函数只能对字典的Key进行排序，而Value将会被丢弃。所以此处将字典的键值转换成元组\n",
    "        show_table.append(key_val_tuple)     #再添加到List中，将元组中的值置换位置，百分比在前，按百分比排序\n",
    "        \n",
    "    table_stored = sorted(show_table, reverse= True)   # 使用了排序function：sorted\n",
    "#     print(table_stored)       # 这一步可以看到 APP 名在后，百分比在前，且以list 形式输出，不便查看\n",
    "    for entry in table_stored:\n",
    "        print(entry[1],':',entry[0])         # 这里又将键值位置换回来\n",
    "  "
   ]
  },
  {
   "cell_type": "markdown",
   "metadata": {},
   "source": [
    "### Part 3"
   ]
  },
  {
   "cell_type": "markdown",
   "metadata": {},
   "source": [
    "分析App Store 中APP百分比情况"
   ]
  },
  {
   "cell_type": "code",
   "execution_count": 703,
   "metadata": {},
   "outputs": [
    {
     "name": "stdout",
     "output_type": "stream",
     "text": [
      "Games : 58.16263190564867\n",
      "Entertainment : 7.883302296710118\n",
      "Photo & Video : 4.9658597144630665\n",
      "Education : 3.662321539416512\n",
      "Social Networking : 3.2898820608317814\n",
      "Shopping : 2.60707635009311\n",
      "Utilities : 2.5139664804469275\n",
      "Sports : 2.1415270018621975\n",
      "Music : 2.0484171322160147\n",
      "Health & Fitness : 2.0173805090006205\n",
      "Productivity : 1.7380509000620732\n",
      "Lifestyle : 1.5828677839851024\n",
      "News : 1.3345747982619491\n",
      "Travel : 1.2414649286157666\n",
      "Finance : 1.1173184357541899\n",
      "Weather : 0.8690254500310366\n",
      "Food & Drink : 0.8069522036002483\n",
      "Reference : 0.5586592178770949\n",
      "Business : 0.5276225946617008\n",
      "Book : 0.4345127250155183\n",
      "Navigation : 0.186219739292365\n",
      "Medical : 0.186219739292365\n",
      "Catalogs : 0.12414649286157665\n"
     ]
    }
   ],
   "source": [
    "display_table(ios_final, 11)"
   ]
  },
  {
   "cell_type": "markdown",
   "metadata": {},
   "source": [
    "As we can see that among free English apps, more than half(about 58%)are games. Entertainmet apps are close to 8% followed by Photo & Video apps which are close to 5%. Only 3.6% apps are designed for education, followed by Social Networking which are amout for 3.29% of apps in out data set.\n",
    "General impression is that App Store(at least the part containing free English Apps) is dominated by apps that are designed for fun(games, entertainment, Photo & Social Networking, Sports, Music,ect.), while apps with practical purpose are more rare. However, the fun apps are have numerous number of apps(Eduction, Shopping, Utilities, Productivity, Lifestyle ), doesn't imply that they have the greatest number of users -- the demand may not be the same as the offer."
   ]
  },
  {
   "cell_type": "markdown",
   "metadata": {},
   "source": [
    "继续分析Google Paly 的App"
   ]
  },
  {
   "cell_type": "code",
   "execution_count": 704,
   "metadata": {},
   "outputs": [
    {
     "name": "stdout",
     "output_type": "stream",
     "text": [
      "FAMILY : 18.907942238267147\n",
      "GAME : 9.724729241877256\n",
      "TOOLS : 8.461191335740072\n",
      "BUSINESS : 4.591606498194946\n",
      "LIFESTYLE : 3.9034296028880866\n",
      "PRODUCTIVITY : 3.892148014440433\n",
      "FINANCE : 3.7003610108303246\n",
      "MEDICAL : 3.531137184115524\n",
      "SPORTS : 3.395758122743682\n",
      "PERSONALIZATION : 3.3167870036101084\n",
      "COMMUNICATION : 3.2378158844765346\n",
      "HEALTH_AND_FITNESS : 3.0798736462093865\n",
      "PHOTOGRAPHY : 2.944494584837545\n",
      "NEWS_AND_MAGAZINES : 2.7978339350180503\n",
      "SOCIAL : 2.6624548736462095\n",
      "TRAVEL_AND_LOCAL : 2.33528880866426\n",
      "SHOPPING : 2.2450361010830324\n",
      "BOOKS_AND_REFERENCE : 2.1435018050541514\n",
      "DATING : 1.861462093862816\n",
      "VIDEO_PLAYERS : 1.7937725631768955\n",
      "MAPS_AND_NAVIGATION : 1.3989169675090252\n",
      "FOOD_AND_DRINK : 1.2409747292418771\n",
      "EDUCATION : 1.1620036101083033\n",
      "ENTERTAINMENT : 0.9589350180505415\n",
      "LIBRARIES_AND_DEMO : 0.9363718411552346\n",
      "AUTO_AND_VEHICLES : 0.9250902527075812\n",
      "HOUSE_AND_HOME : 0.8235559566787004\n",
      "WEATHER : 0.8009927797833934\n",
      "EVENTS : 0.7107400722021661\n",
      "PARENTING : 0.6543321299638989\n",
      "ART_AND_DESIGN : 0.6430505415162455\n",
      "COMICS : 0.6204873646209386\n",
      "BEAUTY : 0.5979241877256317\n"
     ]
    }
   ],
   "source": [
    "display_table(android_final, 1)"
   ]
  },
  {
   "cell_type": "markdown",
   "metadata": {},
   "source": [
    "The landscape seems significantly different on Google Play: there are not that many apps designed for fun, and there are good numbers of apps are designed for practical purposes(family, tools, business, lifeatyle, etc.) If we investigate further we can find that colse to 19% apps are designed for famlily, which means most games designed for kids."
   ]
  },
  {
   "cell_type": "markdown",
   "metadata": {},
   "source": [
    "嵌入图片![title](img/picture.png)"
   ]
  },
  {
   "cell_type": "code",
   "execution_count": 705,
   "metadata": {},
   "outputs": [
    {
     "name": "stdout",
     "output_type": "stream",
     "text": [
      "Tools : 8.449909747292418\n",
      "Entertainment : 6.069494584837545\n",
      "Education : 5.347472924187725\n",
      "Business : 4.591606498194946\n",
      "Productivity : 3.892148014440433\n",
      "Lifestyle : 3.892148014440433\n",
      "Finance : 3.7003610108303246\n",
      "Medical : 3.531137184115524\n",
      "Sports : 3.463447653429603\n",
      "Personalization : 3.3167870036101084\n",
      "Communication : 3.2378158844765346\n",
      "Action : 3.1024368231046933\n",
      "Health & Fitness : 3.0798736462093865\n",
      "Photography : 2.944494584837545\n",
      "News & Magazines : 2.7978339350180503\n",
      "Social : 2.6624548736462095\n",
      "Travel & Local : 2.3240072202166067\n",
      "Shopping : 2.2450361010830324\n",
      "Books & Reference : 2.1435018050541514\n",
      "Simulation : 2.0419675090252705\n",
      "Dating : 1.861462093862816\n",
      "Arcade : 1.8501805054151623\n",
      "Video Players & Editors : 1.7712093862815883\n",
      "Casual : 1.7599277978339352\n",
      "Maps & Navigation : 1.3989169675090252\n",
      "Food & Drink : 1.2409747292418771\n",
      "Puzzle : 1.128158844765343\n",
      "Racing : 0.9927797833935018\n",
      "Role Playing : 0.9363718411552346\n",
      "Libraries & Demo : 0.9363718411552346\n",
      "Auto & Vehicles : 0.9250902527075812\n",
      "Strategy : 0.9138086642599278\n",
      "House & Home : 0.8235559566787004\n",
      "Weather : 0.8009927797833934\n",
      "Events : 0.7107400722021661\n",
      "Adventure : 0.6768953068592057\n",
      "Comics : 0.6092057761732852\n",
      "Beauty : 0.5979241877256317\n",
      "Art & Design : 0.5979241877256317\n",
      "Parenting : 0.4963898916967509\n",
      "Card : 0.45126353790613716\n",
      "Casino : 0.42870036101083037\n",
      "Trivia : 0.41741877256317694\n",
      "Educational;Education : 0.39485559566787\n",
      "Board : 0.3835740072202166\n",
      "Educational : 0.3722924187725632\n",
      "Education;Education : 0.33844765342960287\n",
      "Word : 0.2594765342960289\n",
      "Casual;Pretend Play : 0.236913357400722\n",
      "Music : 0.2030685920577617\n",
      "Racing;Action & Adventure : 0.16922382671480143\n",
      "Puzzle;Brain Games : 0.16922382671480143\n",
      "Entertainment;Music & Video : 0.16922382671480143\n",
      "Casual;Brain Games : 0.13537906137184114\n",
      "Casual;Action & Adventure : 0.13537906137184114\n",
      "Arcade;Action & Adventure : 0.12409747292418773\n",
      "Action;Action & Adventure : 0.10153429602888085\n",
      "Educational;Pretend Play : 0.09025270758122744\n",
      "Simulation;Action & Adventure : 0.078971119133574\n",
      "Parenting;Education : 0.078971119133574\n",
      "Entertainment;Brain Games : 0.078971119133574\n",
      "Board;Brain Games : 0.078971119133574\n",
      "Parenting;Music & Video : 0.06768953068592057\n",
      "Educational;Brain Games : 0.06768953068592057\n",
      "Casual;Creativity : 0.06768953068592057\n",
      "Art & Design;Creativity : 0.06768953068592057\n",
      "Education;Pretend Play : 0.056407942238267145\n",
      "Role Playing;Pretend Play : 0.04512635379061372\n",
      "Education;Creativity : 0.04512635379061372\n",
      "Role Playing;Action & Adventure : 0.033844765342960284\n",
      "Puzzle;Action & Adventure : 0.033844765342960284\n",
      "Entertainment;Creativity : 0.033844765342960284\n",
      "Entertainment;Action & Adventure : 0.033844765342960284\n",
      "Educational;Creativity : 0.033844765342960284\n",
      "Educational;Action & Adventure : 0.033844765342960284\n",
      "Education;Music & Video : 0.033844765342960284\n",
      "Education;Brain Games : 0.033844765342960284\n",
      "Education;Action & Adventure : 0.033844765342960284\n",
      "Adventure;Action & Adventure : 0.033844765342960284\n",
      "Video Players & Editors;Music & Video : 0.02256317689530686\n",
      "Sports;Action & Adventure : 0.02256317689530686\n",
      "Simulation;Pretend Play : 0.02256317689530686\n",
      "Puzzle;Creativity : 0.02256317689530686\n",
      "Music;Music & Video : 0.02256317689530686\n",
      "Entertainment;Pretend Play : 0.02256317689530686\n",
      "Casual;Education : 0.02256317689530686\n",
      "Board;Action & Adventure : 0.02256317689530686\n",
      "Video Players & Editors;Creativity : 0.01128158844765343\n",
      "Trivia;Education : 0.01128158844765343\n",
      "Travel & Local;Action & Adventure : 0.01128158844765343\n",
      "Tools;Education : 0.01128158844765343\n",
      "Strategy;Education : 0.01128158844765343\n",
      "Strategy;Creativity : 0.01128158844765343\n",
      "Strategy;Action & Adventure : 0.01128158844765343\n",
      "Simulation;Education : 0.01128158844765343\n",
      "Role Playing;Brain Games : 0.01128158844765343\n",
      "Racing;Pretend Play : 0.01128158844765343\n",
      "Puzzle;Education : 0.01128158844765343\n",
      "Parenting;Brain Games : 0.01128158844765343\n",
      "Music & Audio;Music & Video : 0.01128158844765343\n",
      "Lifestyle;Pretend Play : 0.01128158844765343\n",
      "Lifestyle;Education : 0.01128158844765343\n",
      "Health & Fitness;Education : 0.01128158844765343\n",
      "Health & Fitness;Action & Adventure : 0.01128158844765343\n",
      "Entertainment;Education : 0.01128158844765343\n",
      "Communication;Creativity : 0.01128158844765343\n",
      "Comics;Creativity : 0.01128158844765343\n",
      "Casual;Music & Video : 0.01128158844765343\n",
      "Card;Action & Adventure : 0.01128158844765343\n",
      "Books & Reference;Education : 0.01128158844765343\n",
      "Art & Design;Pretend Play : 0.01128158844765343\n",
      "Art & Design;Action & Adventure : 0.01128158844765343\n",
      "Arcade;Pretend Play : 0.01128158844765343\n",
      "Adventure;Education : 0.01128158844765343\n"
     ]
    }
   ],
   "source": [
    "display_table(android_final, -4)"
   ]
  },
  {
   "cell_type": "markdown",
   "metadata": {},
   "source": [
    "Google Play 的Genres 和 Category类似，但后续还是会以category 为主进行分析"
   ]
  },
  {
   "cell_type": "markdown",
   "metadata": {},
   "source": [
    "## Most Popular Apps by Genre on the App Store"
   ]
  },
  {
   "cell_type": "markdown",
   "metadata": {},
   "source": [
    "One way to find out what genres are the most popular (have the most users) is to calculate the average number of installs for each app genre. For the Google Play data set, we can find this information in the Installs column, but for the App Store data set this information is missing. As a workaround, we'll take the total number of user ratings as a proxy, which we can find in the rating_count_tot app.\n",
    "\n",
    "Below, we calculate the average number of user ratings per app genre on the App Store:"
   ]
  },
  {
   "cell_type": "markdown",
   "metadata": {},
   "source": [
    "Isolate the apps of each genre.\n",
    "Sum up the user ratings for the apps of that genre.\n",
    "Divide the sum by the number of apps belonging to that genre (not by the total number of apps)."
   ]
  },
  {
   "cell_type": "code",
   "execution_count": 706,
   "metadata": {},
   "outputs": [
    {
     "name": "stdout",
     "output_type": "stream",
     "text": [
      "Social Networking : 71548.34905660378\n",
      "Photo & Video : 28441.54375\n",
      "Games : 22788.6696905016\n",
      "Music : 57326.530303030304\n",
      "Reference : 74942.11111111111\n",
      "Health & Fitness : 23298.015384615384\n",
      "Weather : 52279.892857142855\n",
      "Utilities : 18684.456790123455\n",
      "Travel : 28243.8\n",
      "Shopping : 26919.690476190477\n",
      "News : 21248.023255813954\n",
      "Navigation : 86090.33333333333\n",
      "Lifestyle : 16485.764705882353\n",
      "Entertainment : 14029.830708661417\n",
      "Food & Drink : 33333.92307692308\n",
      "Sports : 23008.898550724636\n",
      "Book : 39758.5\n",
      "Finance : 31467.944444444445\n",
      "Education : 7003.983050847458\n",
      "Productivity : 21028.410714285714\n",
      "Business : 7491.117647058823\n",
      "Catalogs : 4004.0\n",
      "Medical : 612.0\n"
     ]
    }
   ],
   "source": [
    "genres_ios = freq_table(ios_final, -5)\n",
    "# print(genres_ios)\n",
    "\n",
    "for genre in genres_ios:\n",
    "    total_rating = 0\n",
    "    len_genre = 0\n",
    "    for app in ios_final:\n",
    "        genre_app = app[-5]\n",
    "        if genre_app == genre:\n",
    "            total_rating = total_rating + float(app[5])\n",
    "            len_genre += 1\n",
    "    avg_rating = total_rating/len_genre\n",
    "    print(genre,':', avg_rating)"
   ]
  },
  {
   "cell_type": "markdown",
   "metadata": {},
   "source": [
    "由上可以看出，Navigation用户数量最多，但是这个数据受Waze 和 Google Maps的影响太大，这两个APP的评论数差不多有5百万"
   ]
  },
  {
   "cell_type": "code",
   "execution_count": 707,
   "metadata": {},
   "outputs": [
    {
     "name": "stdout",
     "output_type": "stream",
     "text": [
      "Waze - GPS Navigation, Maps & Real-time Traffic : 345046\n",
      "Google Maps - Navigation & Transit : 154911\n",
      "Geocaching® : 12811\n",
      "CoPilot GPS – Car Navigation & Offline Maps : 3582\n",
      "ImmobilienScout24: Real Estate Search in Germany : 187\n",
      "Railway Route Search : 5\n"
     ]
    }
   ],
   "source": [
    "for app in ios_final:\n",
    "    if app[-5] == 'Navigation':\n",
    "        print(app[1], ':', app[5])\n",
    "    "
   ]
  },
  {
   "cell_type": "markdown",
   "metadata": {},
   "source": [
    "上述的情况还出现在social networking apps，平均值受巨头的影响很大，如：Facebook，Pinterest, Skype, etc.\n",
    "音乐类app也有同样的情况，巨头： Pandora, Spotify, and Shazam "
   ]
  },
  {
   "cell_type": "markdown",
   "metadata": {},
   "source": [
    "参考类APP中Bible 和Dictionary.com 同样严重影响平均值"
   ]
  },
  {
   "cell_type": "code",
   "execution_count": 708,
   "metadata": {},
   "outputs": [
    {
     "name": "stdout",
     "output_type": "stream",
     "text": [
      "Bible : 985920\n",
      "Dictionary.com Dictionary & Thesaurus : 200047\n",
      "Dictionary.com Dictionary & Thesaurus for iPad : 54175\n",
      "Google Translate : 26786\n",
      "Muslim Pro: Ramadan 2017 Prayer Times, Azan, Quran : 18418\n",
      "New Furniture Mods - Pocket Wiki & Game Tools for Minecraft PC Edition : 17588\n",
      "Merriam-Webster Dictionary : 16849\n",
      "Night Sky : 12122\n",
      "City Maps for Minecraft PE - The Best Maps for Minecraft Pocket Edition (MCPE) : 8535\n",
      "LUCKY BLOCK MOD ™ for Minecraft PC Edition - The Best Pocket Wiki & Mods Installer Tools : 4693\n",
      "GUNS MODS for Minecraft PC Edition - Mods Tools : 1497\n",
      "Guides for Pokémon GO - Pokemon GO News and Cheats : 826\n",
      "WWDC : 762\n",
      "Horror Maps for Minecraft PE - Download The Scariest Maps for Minecraft Pocket Edition (MCPE) Free : 718\n",
      "VPN Express : 14\n",
      "Real Bike Traffic Rider Virtual Reality Glasses : 8\n",
      "教えて!goo : 0\n",
      "Jishokun-Japanese English Dictionary & Translator : 0\n"
     ]
    }
   ],
   "source": [
    "for app in ios_final:\n",
    "    if app[-5] == 'Reference':\n",
    "        print(app[1], ':', app[5])"
   ]
  },
  {
   "cell_type": "markdown",
   "metadata": {},
   "source": [
    "这个小众市场看起来很有潜力，我们可以将一本比较流行的书做成一个APP，除了那本书本身的特点，我们还可以加入些其他的特色，如：加上音频，这本书的daily quotes，关于这本书的测试，我们还可以加入字典，让用户不用退出软件就可以查询。\n",
    "\n",
    "这个想法在以娱乐app为主的App Store中看起来似乎比较好，因为App Store 中娱乐app已经饱和，这意味着实用类app有更大的机会在App Store平台占据一席之地。\n",
    "\n",
    "其他看起来比较流行的APP还有weather, book, food and drink, or finance，book类和我们上面的想法有点重叠，但是其他app都不适合我们：\n",
    "1. 天气类app，要提供可靠的天气数据，我们的app需要接入付费的APIs\n",
    "2. 食物饮料类app，像星巴克，麦当劳，得要有自己的餐饮店铺，配送服务等\n",
    "3. 金融类app，专业性要求高，同时还要和各大银行，付款，账单联系起来，我们实力不允许"
   ]
  },
  {
   "cell_type": "markdown",
   "metadata": {},
   "source": [
    "## Most Popular App by Genre on Google Play"
   ]
  },
  {
   "cell_type": "markdown",
   "metadata": {},
   "source": [
    "对于Google Play平台上的APP，我们可以直接看install次数"
   ]
  },
  {
   "cell_type": "code",
   "execution_count": 709,
   "metadata": {},
   "outputs": [
    {
     "name": "stdout",
     "output_type": "stream",
     "text": [
      "1,000,000+ : 15.726534296028879\n",
      "100,000+ : 11.552346570397113\n",
      "10,000,000+ : 10.548285198555957\n",
      "10,000+ : 10.198555956678701\n",
      "1,000+ : 8.393501805054152\n",
      "100+ : 6.915613718411552\n",
      "5,000,000+ : 6.825361010830325\n",
      "500,000+ : 5.561823104693141\n",
      "50,000+ : 4.7721119133574\n",
      "5,000+ : 4.512635379061372\n",
      "10+ : 3.5424187725631766\n",
      "500+ : 3.2490974729241873\n",
      "50,000,000+ : 2.3014440433213\n",
      "100,000,000+ : 2.1322202166064983\n",
      "50+ : 1.917870036101083\n",
      "5+ : 0.78971119133574\n",
      "1+ : 0.5076714801444043\n",
      "500,000,000+ : 0.2707581227436823\n",
      "1,000,000,000+ : 0.22563176895306858\n",
      "0+ : 0.04512635379061372\n",
      "0 : 0.01128158844765343\n"
     ]
    }
   ],
   "source": [
    "display_table(android_final, 5)"
   ]
  },
  {
   "cell_type": "markdown",
   "metadata": {},
   "source": [
    "由上我们可以看出问题，对于100,000+ 安装次数的app，我们并不清楚到底是安装了100,000 次， 200,000次， 还是 350,000次。当然我们的目的并不需要精确的数据，我们只想要哪张类型的app用户数较多。\n",
    "\n",
    "我们将保持上述数字不变，并将按装100,000+的就当作治安装了100,000次，安装了1,000,000+当做只安装了1,000,000次\n",
    "\n",
    "为了计算，我们要将安装次数转换成float型："
   ]
  },
  {
   "cell_type": "code",
   "execution_count": 710,
   "metadata": {},
   "outputs": [
    {
     "name": "stdout",
     "output_type": "stream",
     "text": [
      "ART_AND_DESIGN : 1986335.0877192982\n",
      "AUTO_AND_VEHICLES : 647317.8170731707\n",
      "BEAUTY : 513151.88679245283\n",
      "BOOKS_AND_REFERENCE : 8767811.894736841\n",
      "BUSINESS : 1712290.1474201474\n",
      "COMICS : 817657.2727272727\n",
      "COMMUNICATION : 38456119.167247385\n",
      "DATING : 854028.8303030303\n",
      "EDUCATION : 1833495.145631068\n",
      "ENTERTAINMENT : 11640705.88235294\n",
      "EVENTS : 253542.22222222222\n",
      "FINANCE : 1387692.475609756\n",
      "FOOD_AND_DRINK : 1924897.7363636363\n",
      "HEALTH_AND_FITNESS : 4188821.9853479853\n",
      "HOUSE_AND_HOME : 1331540.5616438356\n",
      "LIBRARIES_AND_DEMO : 638503.734939759\n",
      "LIFESTYLE : 1437816.2687861272\n",
      "GAME : 15588015.603248259\n",
      "FAMILY : 3695641.8198090694\n",
      "MEDICAL : 120550.61980830671\n",
      "SOCIAL : 23253652.127118643\n",
      "SHOPPING : 7036877.311557789\n",
      "PHOTOGRAPHY : 17840110.40229885\n",
      "SPORTS : 3638640.1428571427\n",
      "TRAVEL_AND_LOCAL : 13984077.710144928\n",
      "TOOLS : 10801391.298666667\n",
      "PERSONALIZATION : 5201482.6122448975\n",
      "PRODUCTIVITY : 16787331.344927534\n",
      "PARENTING : 542603.6206896552\n",
      "WEATHER : 5074486.197183099\n",
      "VIDEO_PLAYERS : 24727872.452830188\n",
      "NEWS_AND_MAGAZINES : 9549178.467741935\n",
      "MAPS_AND_NAVIGATION : 4056941.7741935486\n"
     ]
    }
   ],
   "source": [
    "androids_category = freq_table(android_final, 1)\n",
    "\n",
    "for category in androids_category:\n",
    "    total = 0\n",
    "    len_catogery = 0\n",
    "    for app in android_final:\n",
    "        category_app = app[1]\n",
    "        if category_app == category:\n",
    "            installs_str =  app[5]\n",
    "            installs = installs_str.replace('+','')\n",
    "            installs = installs.replace(',','')\n",
    "            installs = float(installs)\n",
    "            total += installs\n",
    "            len_catogery += 1\n",
    "    avg_installs = total/len_catogery\n",
    "    print(category,':',avg_installs)\n"
   ]
  },
  {
   "cell_type": "markdown",
   "metadata": {},
   "source": [
    "communication apps 安装次数最多: 38,456,119. 这个安装数据受社交软件的巨头影响比较大 (WhatsApp, Facebook Messenger, Skype, Google Chrome, Gmail, and Hangouts), and a few others with over 100 and 500 million installs:"
   ]
  },
  {
   "cell_type": "code",
   "execution_count": 711,
   "metadata": {},
   "outputs": [
    {
     "name": "stdout",
     "output_type": "stream",
     "text": [
      "WhatsApp Messenger , 1,000,000,000+\n",
      "imo beta free calls and text , 100,000,000+\n",
      "Android Messages , 100,000,000+\n",
      "Google Duo - High Quality Video Calls , 500,000,000+\n",
      "Messenger – Text and Video Chat for Free , 1,000,000,000+\n",
      "imo free video calls and chat , 500,000,000+\n",
      "Skype - free IM & video calls , 1,000,000,000+\n",
      "Who , 100,000,000+\n",
      "GO SMS Pro - Messenger, Free Themes, Emoji , 100,000,000+\n",
      "LINE: Free Calls & Messages , 500,000,000+\n",
      "Google Chrome: Fast & Secure , 1,000,000,000+\n",
      "Firefox Browser fast & private , 100,000,000+\n",
      "UC Browser - Fast Download Private & Secure , 500,000,000+\n",
      "Gmail , 1,000,000,000+\n",
      "Hangouts , 1,000,000,000+\n",
      "Messenger Lite: Free Calls & Messages , 100,000,000+\n",
      "Kik , 100,000,000+\n",
      "KakaoTalk: Free Calls & Text , 100,000,000+\n",
      "Opera Mini - fast web browser , 100,000,000+\n",
      "Opera Browser: Fast and Secure , 100,000,000+\n",
      "Telegram , 100,000,000+\n",
      "Truecaller: Caller ID, SMS spam blocking & Dialer , 100,000,000+\n",
      "UC Browser Mini -Tiny Fast Private & Secure , 100,000,000+\n",
      "Viber Messenger , 500,000,000+\n",
      "WeChat , 100,000,000+\n",
      "Yahoo Mail – Stay Organized , 100,000,000+\n",
      "BBM - Free Calls & Messages , 100,000,000+\n"
     ]
    }
   ],
   "source": [
    "for app in android_final:\n",
    "    if app[1]=='COMMUNICATION' and(app[5] == '1,000,000,000+'or app[5] == '500,000,000+' or app[5] == '100,000,000+'):\n",
    "        print(app[0],',',app[5])"
   ]
  },
  {
   "cell_type": "markdown",
   "metadata": {},
   "source": [
    "如果去除安装次数超100million的app，communication类app安装次数将减少10倍"
   ]
  },
  {
   "cell_type": "code",
   "execution_count": 712,
   "metadata": {},
   "outputs": [
    {
     "name": "stdout",
     "output_type": "stream",
     "text": [
      "3603485.3884615386\n"
     ]
    }
   ],
   "source": [
    "for_under_100M = []\n",
    "for app in android_final:\n",
    "    installs = app[5]\n",
    "    installs = installs.replace(',','')\n",
    "    installs = installs.replace('+','')\n",
    "    installs = float(installs)\n",
    "    if app[1]=='COMMUNICATION' and installs<100000000:\n",
    "        for_under_100M.append(installs)\n",
    "\n",
    "avg_installs = sum(for_under_100M)/len(for_under_100M)   \n",
    "print(avg_installs)"
   ]
  },
  {
   "cell_type": "markdown",
   "metadata": {},
   "source": [
    "We see the same pattern for the video players category, which is the runner-up with 24,727,872 installs. The market is dominated by apps like Youtube, Google Play Movies & TV, or MX Player. The pattern is repeated for social apps (where we have giants like Facebook, Instagram, Google+, etc.), photography apps (Google Photos and other popular photo editors), or productivity apps (Microsoft Word, Dropbox, Google Calendar, Evernote, etc.).\n",
    "\n",
    "Again, the main concern is that these app genres might seem more popular than they really are. Moreover, these niches seem to be dominated by a few giants who are hard to compete against.\n",
    "\n",
    "The game genre seems pretty popular, but previously we found out this part of the market seems a bit saturated, so we'd like to come up with a different app recommendation if possible.\n",
    "\n",
    "The books and reference genre looks fairly popular as well, with an average number of installs of 8,767,811. It's interesting to explore this in more depth, since we found this genre has some potential to work well on the App Store, and our aim is to recommend an app genre that shows potential for being profitable on both the App Store and Google Play.\n",
    "\n",
    "Let's take a look at some of the apps from this genre and their number of installs:\n",
    "\n",
    "同样的情况也出现在video players中有24,727,872次安装，其中YouTube，Google Play Movies & TV, or MX Player占据了主要市场。\n",
    "同意也存在于社交类（巨头：Facebook, Instagram, Google+, etc.）\n",
    "photography apps(Google Photos and other popular photo editors)\n",
    "productivity apps (Microsoft Word, Dropbox, Google Calendar, Evernote, etc.)\n",
    "\n",
    "再次强调，这意味着这些app看起来比实际上更流行。此外这些市场被那些我们我们无法匹敌的巨头垄断。\n",
    "\n",
    "游戏类app看起来相当流行，但是此前分析过市场饱和了，所以如果可能我们想开发一个不同的app。\n",
    "\n",
    "参考类数和书籍类看起来也非常流行，平均安装次数8,767,811。因为这类app又很大的潜力，所以值得我们进一步研究。\n",
    "现在来分析这类app的安装情况："
   ]
  },
  {
   "cell_type": "code",
   "execution_count": 713,
   "metadata": {},
   "outputs": [
    {
     "name": "stdout",
     "output_type": "stream",
     "text": [
      "E-Book Read - Read Book for free , 50,000+\n",
      "Download free book with green book , 100,000+\n",
      "Wikipedia , 10,000,000+\n",
      "Cool Reader , 10,000,000+\n",
      "Free Panda Radio Music , 100,000+\n",
      "Book store , 1,000,000+\n",
      "FBReader: Favorite Book Reader , 10,000,000+\n",
      "English Grammar Complete Handbook , 500,000+\n",
      "Free Books - Spirit Fanfiction and Stories , 1,000,000+\n",
      "Google Play Books , 1,000,000,000+\n",
      "AlReader -any text book reader , 5,000,000+\n",
      "Offline English Dictionary , 100,000+\n",
      "Offline: English to Tagalog Dictionary , 500,000+\n",
      "FamilySearch Tree , 1,000,000+\n",
      "Cloud of Books , 1,000,000+\n",
      "Recipes of Prophetic Medicine for free , 500,000+\n",
      "ReadEra – free ebook reader , 1,000,000+\n",
      "Anonymous caller detection , 10,000+\n",
      "Ebook Reader , 5,000,000+\n",
      "Litnet - E-books , 100,000+\n",
      "Read books online , 5,000,000+\n",
      "English to Urdu Dictionary , 500,000+\n",
      "eBoox: book reader fb2 epub zip , 1,000,000+\n",
      "English Persian Dictionary , 500,000+\n",
      "Flybook , 500,000+\n",
      "All Maths Formulas , 1,000,000+\n",
      "Ancestry , 5,000,000+\n",
      "HTC Help , 10,000,000+\n",
      "English translation from Bengali , 100,000+\n",
      "Pdf Book Download - Read Pdf Book , 100,000+\n",
      "Free Book Reader , 100,000+\n",
      "eBoox new: Reader for fb2 epub zip books , 50,000+\n",
      "Only 30 days in English, the guideline is guaranteed , 500,000+\n",
      "Moon+ Reader , 10,000,000+\n",
      "SH-02J Owner's Manual (Android 8.0) , 50,000+\n",
      "English-Myanmar Dictionary , 1,000,000+\n",
      "Golden Dictionary (EN-AR) , 1,000,000+\n",
      "All Language Translator Free , 1,000,000+\n",
      "Azpen eReader , 500,000+\n",
      "URBANO V 02 instruction manual , 100,000+\n",
      "Bible , 100,000,000+\n",
      "C Programs and Reference , 50,000+\n",
      "C Offline Tutorial , 1,000+\n",
      "C Programs Handbook , 50,000+\n",
      "Amazon Kindle , 100,000,000+\n",
      "Aab e Hayat Full Novel , 100,000+\n",
      "Aldiko Book Reader , 10,000,000+\n",
      "Google I/O 2018 , 500,000+\n",
      "R Language Reference Guide , 10,000+\n",
      "Learn R Programming Full , 5,000+\n",
      "R Programing Offline Tutorial , 1,000+\n",
      "Guide for R Programming , 5+\n",
      "Learn R Programming , 10+\n",
      "R Quick Reference Big Data , 1,000+\n",
      "V Made , 100,000+\n",
      "Wattpad 📖 Free Books , 100,000,000+\n",
      "Dictionary - WordWeb , 5,000,000+\n",
      "Guide (for X-MEN) , 100,000+\n",
      "AC Air condition Troubleshoot,Repair,Maintenance , 5,000+\n",
      "AE Bulletins , 1,000+\n",
      "Ae Allah na Dai (Rasa) , 10,000+\n",
      "50000 Free eBooks & Free AudioBooks , 5,000,000+\n",
      "Ag PhD Field Guide , 10,000+\n",
      "Ag PhD Deficiencies , 10,000+\n",
      "Ag PhD Planting Population Calculator , 1,000+\n",
      "Ag PhD Soybean Diseases , 1,000+\n",
      "Fertilizer Removal By Crop , 50,000+\n",
      "A-J Media Vault , 50+\n",
      "Al-Quran (Free) , 10,000,000+\n",
      "Al Quran (Tafsir & by Word) , 500,000+\n",
      "Al Quran Indonesia , 10,000,000+\n",
      "Al'Quran Bahasa Indonesia , 10,000,000+\n",
      "Al Quran Al karim , 1,000,000+\n",
      "Al-Muhaffiz , 50,000+\n",
      "Al Quran : EAlim - Translations & MP3 Offline , 5,000,000+\n",
      "Al-Quran 30 Juz free copies , 500,000+\n",
      "Koran Read &MP3 30 Juz Offline , 1,000,000+\n",
      "Hafizi Quran 15 lines per page , 1,000,000+\n",
      "Quran for Android , 10,000,000+\n",
      "Surah Al-Waqiah , 100,000+\n",
      "Hisnul Al Muslim - Hisn Invocations & Adhkaar , 100,000+\n",
      "Satellite AR , 1,000,000+\n",
      "Audiobooks from Audible , 100,000,000+\n",
      "Kinot & Eichah for Tisha B'Av , 10,000+\n",
      "AW Tozer Devotionals - Daily , 5,000+\n",
      "Tozer Devotional -Series 1 , 1,000+\n",
      "The Pursuit of God , 1,000+\n",
      "AY Sing , 5,000+\n",
      "Ay Hasnain k Nana Milad Naat , 10,000+\n",
      "Ay Mohabbat Teri Khatir Novel , 10,000+\n",
      "Arizona Statutes, ARS (AZ Law) , 1,000+\n",
      "Oxford A-Z of English Usage , 1,000,000+\n",
      "BD Fishpedia , 1,000+\n",
      "BD All Sim Offer , 10,000+\n",
      "Youboox - Livres, BD et magazines , 500,000+\n",
      "B&H Kids AR , 10,000+\n",
      "B y H Niños ES , 5,000+\n",
      "Dictionary.com: Find Definitions for English Words , 10,000,000+\n",
      "English Dictionary - Offline , 10,000,000+\n",
      "Bible KJV , 5,000,000+\n",
      "Borneo Bible, BM Bible , 10,000+\n",
      "MOD Black for BM , 100+\n",
      "BM Box , 1,000+\n",
      "Anime Mod for BM , 100+\n",
      "NOOK: Read eBooks & Magazines , 10,000,000+\n",
      "NOOK Audiobooks , 500,000+\n",
      "NOOK App for NOOK Devices , 500,000+\n",
      "Browsery by Barnes & Noble , 5,000+\n",
      "bp e-store , 1,000+\n",
      "Brilliant Quotes: Life, Love, Family & Motivation , 1,000,000+\n",
      "BR Ambedkar Biography & Quotes , 10,000+\n",
      "BU Alsace , 100+\n",
      "Catholic La Bu Zo Kam , 500+\n",
      "Khrifa Hla Bu (Solfa) , 10+\n",
      "Kristian Hla Bu , 10,000+\n",
      "SA HLA BU , 1,000+\n",
      "Learn SAP BW , 500+\n",
      "Learn SAP BW on HANA , 500+\n",
      "CA Laws 2018 (California Laws and Codes) , 5,000+\n",
      "Bootable Methods(USB-CD-DVD) , 10,000+\n",
      "cloudLibrary , 100,000+\n",
      "SDA Collegiate Quarterly , 500+\n",
      "Sabbath School , 100,000+\n",
      "Cypress College Library , 100+\n",
      "Stats Royale for Clash Royale , 1,000,000+\n",
      "GATE 21 years CS Papers(2011-2018 Solved) , 50+\n",
      "Learn CT Scan Of Head , 5,000+\n",
      "Easy Cv maker 2018 , 10,000+\n",
      "How to Write CV , 100,000+\n",
      "CW Nuclear , 1,000+\n",
      "CY Spray nozzle , 10+\n",
      "BibleRead En Cy Zh Yue , 5+\n",
      "CZ-Help , 5+\n",
      "Modlitební knížka CZ , 500+\n",
      "Guide for DB Xenoverse , 10,000+\n",
      "Guide for DB Xenoverse 2 , 10,000+\n",
      "Guide for IMS DB , 10+\n",
      "DC HSEMA , 5,000+\n",
      "DC Public Library , 1,000+\n",
      "Painting Lulu DC Super Friends , 1,000+\n",
      "Dictionary , 10,000,000+\n",
      "Fix Error Google Playstore , 1,000+\n",
      "D. H. Lawrence Poems FREE , 1,000+\n",
      "Bilingual Dictionary Audio App , 5,000+\n",
      "DM Screen , 10,000+\n",
      "wikiHow: how to do anything , 1,000,000+\n",
      "Dr. Doug's Tips , 1,000+\n",
      "Bible du Semeur-BDS (French) , 50,000+\n",
      "La citadelle du musulman , 50,000+\n",
      "DV 2019 Entry Guide , 10,000+\n",
      "DV 2019 - EDV Photo & Form , 50,000+\n",
      "DV 2018 Winners Guide , 1,000+\n",
      "EB Annual Meetings , 1,000+\n",
      "EC - AP & Telangana , 5,000+\n",
      "TN Patta Citta & EC , 10,000+\n",
      "AP Stamps and Registration , 10,000+\n",
      "CompactiMa EC pH Calibration , 100+\n",
      "EGW Writings 2 , 100,000+\n",
      "EGW Writings , 1,000,000+\n",
      "Bible with EGW Comments , 100,000+\n",
      "My Little Pony AR Guide , 1,000,000+\n",
      "SDA Sabbath School Quarterly , 500,000+\n",
      "Duaa Ek Ibaadat , 5,000+\n",
      "Spanish English Translator , 10,000,000+\n",
      "Dictionary - Merriam-Webster , 10,000,000+\n",
      "JW Library , 10,000,000+\n",
      "Oxford Dictionary of English : Free , 10,000,000+\n",
      "English Hindi Dictionary , 10,000,000+\n",
      "English to Hindi Dictionary , 5,000,000+\n",
      "EP Research Service , 1,000+\n",
      "Hymnes et Louanges , 100,000+\n",
      "EU Charter , 1,000+\n",
      "EU Data Protection , 1,000+\n",
      "EU IP Codes , 100+\n",
      "EW PDF , 5+\n",
      "BakaReader EX , 100,000+\n",
      "EZ Quran , 50,000+\n",
      "FA Part 1 & 2 Past Papers Solved Free – Offline , 5,000+\n",
      "La Fe de Jesus , 1,000+\n",
      "La Fe de Jesús , 500+\n",
      "Le Fe de Jesus , 500+\n",
      "Florida - Pocket Brainbook , 1,000+\n",
      "Florida Statutes (FL Code) , 1,000+\n",
      "English To Shona Dictionary , 10,000+\n",
      "Greek Bible FP (Audio) , 1,000+\n",
      "Golden Dictionary (FR-AR) , 500,000+\n",
      "Fanfic-FR , 5,000+\n",
      "Bulgarian French Dictionary Fr , 10,000+\n",
      "Chemin (fr) , 1,000+\n",
      "The SCP Foundation DB fr nn5n , 1,000+\n"
     ]
    }
   ],
   "source": [
    "for app in android_final:\n",
    "    if app[1]=='BOOKS_AND_REFERENCE':\n",
    "        print(app[0],',',app[5])"
   ]
  },
  {
   "cell_type": "markdown",
   "metadata": {},
   "source": [
    "The book and reference genre includes a variety of apps: software for processing and reading ebooks, various collections of libraries, dictionaries, tutorials on programming or languages, etc. It seems there's still a small number of extremely popular apps that skew the average:"
   ]
  },
  {
   "cell_type": "code",
   "execution_count": 714,
   "metadata": {},
   "outputs": [
    {
     "name": "stdout",
     "output_type": "stream",
     "text": [
      "Google Play Books , 1,000,000,000+\n",
      "Bible , 100,000,000+\n",
      "Amazon Kindle , 100,000,000+\n",
      "Wattpad 📖 Free Books , 100,000,000+\n",
      "Audiobooks from Audible , 100,000,000+\n"
     ]
    }
   ],
   "source": [
    "for app in android_final:\n",
    "    if app[1]=='BOOKS_AND_REFERENCE' and(app[5] == '1,000,000,000+'or app[5] == '500,000,000+' or app[5] == '100,000,000+'):\n",
    "        print(app[0],',',app[5])"
   ]
  },
  {
   "cell_type": "markdown",
   "metadata": {},
   "source": [
    "However, it looks like there are only a few very popular apps, so this market still shows potential. Let's try to get some app ideas based on the kind of apps that are somewhere in the middle in terms of popularity (between 1,000,000 and 100,000,000 downloads):"
   ]
  },
  {
   "cell_type": "code",
   "execution_count": 715,
   "metadata": {},
   "outputs": [
    {
     "name": "stdout",
     "output_type": "stream",
     "text": [
      "Wikipedia , 10,000,000+\n",
      "Cool Reader , 10,000,000+\n",
      "Book store , 1,000,000+\n",
      "FBReader: Favorite Book Reader , 10,000,000+\n",
      "Free Books - Spirit Fanfiction and Stories , 1,000,000+\n",
      "AlReader -any text book reader , 5,000,000+\n",
      "FamilySearch Tree , 1,000,000+\n",
      "Cloud of Books , 1,000,000+\n",
      "ReadEra – free ebook reader , 1,000,000+\n",
      "Ebook Reader , 5,000,000+\n",
      "Read books online , 5,000,000+\n",
      "eBoox: book reader fb2 epub zip , 1,000,000+\n",
      "All Maths Formulas , 1,000,000+\n",
      "Ancestry , 5,000,000+\n",
      "HTC Help , 10,000,000+\n",
      "Moon+ Reader , 10,000,000+\n",
      "English-Myanmar Dictionary , 1,000,000+\n",
      "Golden Dictionary (EN-AR) , 1,000,000+\n",
      "All Language Translator Free , 1,000,000+\n",
      "Aldiko Book Reader , 10,000,000+\n",
      "Dictionary - WordWeb , 5,000,000+\n",
      "50000 Free eBooks & Free AudioBooks , 5,000,000+\n",
      "Al-Quran (Free) , 10,000,000+\n",
      "Al Quran Indonesia , 10,000,000+\n",
      "Al'Quran Bahasa Indonesia , 10,000,000+\n",
      "Al Quran Al karim , 1,000,000+\n",
      "Al Quran : EAlim - Translations & MP3 Offline , 5,000,000+\n",
      "Koran Read &MP3 30 Juz Offline , 1,000,000+\n",
      "Hafizi Quran 15 lines per page , 1,000,000+\n",
      "Quran for Android , 10,000,000+\n",
      "Satellite AR , 1,000,000+\n",
      "Oxford A-Z of English Usage , 1,000,000+\n",
      "Dictionary.com: Find Definitions for English Words , 10,000,000+\n",
      "English Dictionary - Offline , 10,000,000+\n",
      "Bible KJV , 5,000,000+\n",
      "NOOK: Read eBooks & Magazines , 10,000,000+\n",
      "Brilliant Quotes: Life, Love, Family & Motivation , 1,000,000+\n",
      "Stats Royale for Clash Royale , 1,000,000+\n",
      "Dictionary , 10,000,000+\n",
      "wikiHow: how to do anything , 1,000,000+\n",
      "EGW Writings , 1,000,000+\n",
      "My Little Pony AR Guide , 1,000,000+\n",
      "Spanish English Translator , 10,000,000+\n",
      "Dictionary - Merriam-Webster , 10,000,000+\n",
      "JW Library , 10,000,000+\n",
      "Oxford Dictionary of English : Free , 10,000,000+\n",
      "English Hindi Dictionary , 10,000,000+\n",
      "English to Hindi Dictionary , 5,000,000+\n"
     ]
    }
   ],
   "source": [
    "for app in android_final:\n",
    "    if app[1]=='BOOKS_AND_REFERENCE' and(app[5] == '1,000,000+'or app[5] == '5,000,000+'or app[5] == '10,000,000+'or\n",
    "                                         app[5] == '50,000,000+'):\n",
    "        print(app[0],',',app[5])"
   ]
  },
  {
   "cell_type": "markdown",
   "metadata": {},
   "source": [
    "This niche seems to be dominated by software for processing and reading ebooks, as well as various collections of libraries and dictionaries, so it's probably not a good idea to build similar apps since there'll be some significant competition.\n",
    "\n",
    "We also notice there are quite a few apps built around the book Quran, which suggests that building an app around a popular book can be profitable. It seems that taking a popular book (perhaps a more recent book) and turning it into an app could be profitable for both the Google Play and the App Store markets.\n",
    "\n",
    "However, it looks like the market is already full of libraries, so we need to add some special features besides the raw version of the book. This might include daily quotes from the book, an audio version of the book, quizzes on the book, a forum where people can discuss the book, etc.\n",
    "\n",
    "这个市场似乎被软件处理，电子书，以及各种字典，图书收集软件垄断，所以再建一个类似的软件似乎并非明智之举。"
   ]
  },
  {
   "cell_type": "markdown",
   "metadata": {},
   "source": [
    "## Conclusions"
   ]
  },
  {
   "cell_type": "markdown",
   "metadata": {},
   "source": [
    " In this project, we analyzed data about the App Store and Google Play mobile apps with the goal of recommending an app profile that can be profitable for both markets.\n",
    "\n",
    "We concluded that taking a popular book (perhaps a more recent book) and turning it into an app could be profitable for both the Google Play and the App Store markets. The markets are already full of libraries, so we need to add some special features besides the raw version of the book. This might include daily quotes from the book, an audio version of the book, quizzes on the book, a forum where people can discuss the book, etc.\n",
    "\n",
    "在这个项目中分析了App Store和Google Play中移动APP，致力于找到一个可以适应这两个市场的APP.\n",
    "\n",
    "我们得出结论可以将一本比较流行的书做成一个APP，除了那本书本身的特点，我们还可以加入些其他的特色，如：加上音频，这本书的daily quotes，关于这本书的讨论，我们还可以加入字典，让用户不用退出软件就可以查询等待。\n"
   ]
  }
 ],
 "metadata": {
  "kernelspec": {
   "display_name": "Python 3",
   "language": "python",
   "name": "python3"
  },
  "language_info": {
   "codemirror_mode": {
    "name": "ipython",
    "version": 3
   },
   "file_extension": ".py",
   "mimetype": "text/x-python",
   "name": "python",
   "nbconvert_exporter": "python",
   "pygments_lexer": "ipython3",
   "version": "3.7.3"
  }
 },
 "nbformat": 4,
 "nbformat_minor": 2
}
