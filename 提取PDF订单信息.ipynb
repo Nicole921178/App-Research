{
 "cells": [
  {
   "cell_type": "markdown",
   "metadata": {},
   "source": [
    "# 输入PDF名，将其转换成文本"
   ]
  },
  {
   "cell_type": "code",
   "execution_count": 12,
   "metadata": {},
   "outputs": [
    {
     "name": "stdout",
     "output_type": "stream",
     "text": [
      "Spare Part Order 06021 - Case 128192 - SISL (HTL Manufacturing Pte Lt.pdf\n",
      "1\n"
     ]
    }
   ],
   "source": [
    "import PyPDF2\n",
    "# creating a pdf file object \n",
    "faddress = input()\n",
    "pdfFileObj = open(faddress,'rb') \n",
    "\n",
    "# creating a pdf reader object \n",
    "\n",
    "pdfReader = PyPDF2.PdfFileReader(pdfFileObj) \n",
    "\n",
    "# printing number of pages in pdf file \n",
    "\n",
    "print(pdfReader.numPages) \n",
    "\n",
    "# creating a page object \n",
    "\n",
    "pageObj = pdfReader.getPage(0) \n",
    "\n",
    "# extracting text from page \n",
    "txt1 = pageObj.extractText()\n",
    "\n",
    "\n",
    "# closing the pdf file object \n",
    "\n",
    "pdfFileObj.close() "
   ]
  },
  {
   "cell_type": "code",
   "execution_count": 13,
   "metadata": {},
   "outputs": [
    {
     "name": "stdout",
     "output_type": "stream",
     "text": [
      "<class '_io.TextIOWrapper'>\n"
     ]
    }
   ],
   "source": [
    "# 将PDF 内容存储在新文本中\n",
    "newtxt  = open(\"01.txt\",\"w\")\n",
    "str_txt1 = repr(txt1)\n",
    "newtxt.write(str_txt1)\n",
    "print(type(newtxt))\n",
    "newtxt.close()"
   ]
  },
  {
   "cell_type": "code",
   "execution_count": 14,
   "metadata": {},
   "outputs": [],
   "source": [
    "f = open('01.txt',\"r\")\n",
    "content = f.read()\n",
    "f.close()"
   ]
  },
  {
   "cell_type": "code",
   "execution_count": 15,
   "metadata": {},
   "outputs": [
    {
     "name": "stdout",
     "output_type": "stream",
     "text": [
      "['\"QTY', '1', 'KINGS PARK NSW 2148', 'FOR CASE NUMBER:', 'SPARE PART ORDER FORM', 'SPARE PARTS', 'OUR REFERENCE NUMBER:', '06021', '2 HARVEY ROAD', '128192', 'PLEASE ATTACH THE BELOW TO SPARE PART PARCEL', 'PLEASE SEND REQUESTED ITEMS TO:', 'SUPPLIER: SISL (HTL Manufacturing Pte Lt', 'Spare Parts, 2 Harvey Road, Kings Park, NSW, 2148, Australia', 'ENSURE THAT THIS ORDER IS CONFIRMED WITHIN 48 HOURS WITH AN ETD OF PARTS', 'Faulty', 'MEASURE', 'Piece (s)', 'PART DESCRIPTION', 'DATE:', '09/04/2021', 'AUSTRALIA', 'PH: +61 2 8822 8822', 'E: spareparts@steinhoff.com.au', 'RS-12127 1S1U Belfas', 'Airfreight', '', 'REQUIRED: Every UNIT must be labelled for identification at receipt', 'Container', 'ALL SPARE PARTS MUST BE SENT AT SUPPLIERS EXPENSE', 'METHOD OF SENDING: ', '', 'PRODUCT - SKU & DESCRIPTION', \"PRODUCT - SUPPLIER'S DESCRIPTION\", 'REASON', '24269803 Asher Armchair 1(E/Mo) Belfast Dove', 'MECHANISM', '', 'URGENT SPARE PARTS', 'TBC BY CAITLIN @ FCS', 'Supplier Name: ', 'SISL (HTL Manufacturing Pte Lt', 'Spare Parts, 2 Harvey Road, Kings Park, NSW, 2148, ', 'Australia', 'Quantity: ', '1 Piece (s)', 'Order Ref #: ', '06021', 'Product SKU ', '& Description:', '24269803 Asher Armchair 1(E/Mo) ', 'Belfast Dove', 'Parts in Parcel:', 'MECHANISM', 'Case #:', '128192', \"Supplier's Product \", 'Description:', 'RS-12127 1S1U Belfas', '\"']\n"
     ]
    }
   ],
   "source": [
    "# 将文本内容转换成list\n",
    "content_list = content.split(\"\\\\n\")\n",
    "print(content_list)"
   ]
  },
  {
   "cell_type": "code",
   "execution_count": 16,
   "metadata": {},
   "outputs": [
    {
     "name": "stdout",
     "output_type": "stream",
     "text": [
      "06021\n",
      "09/04/2021\n"
     ]
    }
   ],
   "source": [
    "#提取list中需要的信息\n",
    "print(content_list[7])\n",
    "order_number = content_list[7]\n",
    "print(content_list[20])\n",
    "order_date =content_list[20]"
   ]
  },
  {
   "cell_type": "code",
   "execution_count": 17,
   "metadata": {},
   "outputs": [
    {
     "name": "stdout",
     "output_type": "stream",
     "text": [
      "<class '_io.TextIOWrapper'>\n"
     ]
    }
   ],
   "source": [
    "#将提取的信息输出到summary文本中\n",
    "f = open(\"summary.txt\",\"a\")\n",
    "str_order_number = repr(order_number)\n",
    "str_order_date = repr(order_date)\n",
    "f.write(str_order_date+\"  Spare Part Order \"+str_order_number+\"\\n\")\n",
    "print(type(f))\n",
    "f.close()"
   ]
  }
 ],
 "metadata": {
  "kernelspec": {
   "display_name": "Python 3",
   "language": "python",
   "name": "python3"
  },
  "language_info": {
   "codemirror_mode": {
    "name": "ipython",
    "version": 3
   },
   "file_extension": ".py",
   "mimetype": "text/x-python",
   "name": "python",
   "nbconvert_exporter": "python",
   "pygments_lexer": "ipython3",
   "version": "3.8.3"
  }
 },
 "nbformat": 4,
 "nbformat_minor": 4
}
