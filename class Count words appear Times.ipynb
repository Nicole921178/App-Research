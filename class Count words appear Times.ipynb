{
 "cells": [
  {
   "cell_type": "markdown",
   "metadata": {},
   "source": [
    "# Count Word Occur Times"
   ]
  },
  {
   "cell_type": "raw",
   "metadata": {},
   "source": [
    "When using https://www.wordclouds.com/ to ananlysie words occur times in a txt, I have the idea to write below scripts to complish the same work."
   ]
  },
  {
   "cell_type": "code",
   "execution_count": null,
   "metadata": {},
   "outputs": [],
   "source": [
    "class Words:\n",
    "    \n",
    "    def __init__(self,n_txt):\n",
    "        self.n_txt = n_txt\n",
    "        self.txtlist = []\n",
    "        \n",
    "    def inPutTxt(self):\n",
    "        \"Input the txt you want to analysie.\"\n",
    "        self.txt = input(\"Input Text:\")\n",
    "        print(self.txt)\n",
    "        \n",
    "    def createlist(self):        \n",
    "        \"\"\"Split the input txt into a words list\"\"\"\n",
    "        # self.txt = input(\"Input a txt:\")\n",
    "        # self.newtxt = self.txt.repalce(\",\",\"\") \n",
    "        #self.txtlist = self.newtxt.split( )\n",
    "        x = self.txt.replace(\" \", \",\")\n",
    "        x2 = x.replace(\"\\n\",\",\")\n",
    "        x3 = x2.replace(\".\",\",\")\n",
    "        self.txtlist = x3.split(\",\")\n",
    "        print(self.txtlist)\n",
    "        \n",
    "    def findCount(self):\n",
    "        \"\"\"Count each word accur times and return to a key-value dictionary\"\"\"\n",
    "        # from collections import Counter\n",
    "        # mydict =Counter(self.txtlist)\n",
    "        mydict = {x:self.txtlist.count(x) for x in self.txtlist}\n",
    "        remydict = {k:v for k,v in sorted(mydict.items(),key = lambda item: item[1],reverse = True)}\n",
    "        return dict(remydict)  ### dict() is very important,if else you will get a noneType,not a dict type and you can go on later\n",
    "\n",
    "        \n",
    "        \n",
    "class Repeat(Words):\n",
    "    \n",
    "    def __init__(self):\n",
    "        \n",
    "        Words.__init__(self,1)\n",
    "\n",
    "r1 = Repeat()\n",
    "r1.inPutTxt()"
   ]
  },
  {
   "cell_type": "code",
   "execution_count": 9,
   "metadata": {},
   "outputs": [
    {
     "name": "stdout",
     "output_type": "stream",
     "text": [
      "['Basic', 'Qualifications', 'Self-motivated', 'and', 'results', 'driven', '', 'Ability', 'to', 'build', 'strong', 'internal', 'and', 'external', 'relationships', '', 'Knowledge', 'of', 'Amazon’s', 'retail', 'tools', 'is', 'a', 'plus', '', 'Attention', 'to', 'detail', 'and', 'the', 'ability', 'to', 'communicate', 'clearly', 'and', 'effectively', 'Experience', 'in', 'negotiations', '', 'pricing', '', 'lean', 'supply', 'chain', 'management', '', 'international', 'logistics', '', 'product', 'compliance', '', 'product', 'development', '', 'branding', '', 'packaging', '', 'importing', 'are', 'a', 'plus', '', 'Understand', 'manufacturing', 'and', 'quality', 'assurance', 'processes', '', 'Data', 'analytical', 'skills', '(SQL', 'especially)', 'and', 'project', 'management', 'skills', 'are', 'major', 'pluses', 'Preferred', 'Qualifications', \"Bachelor's\", 'degree', '(MBA', 'or', 'Advanced', 'Engineering', 'degree', 'preferred)', '', 'Demonstrated', 'success', 'defining', 'and', 'launching', 'excellent', 'products', 'Be', 'an', 'expert', 'with', 'respect', 'to', 'product', 'management', 'with', 'a', 'focus', 'on', 'quality', 'and', 'performance', '', 'Demonstrated', 'knowledge', 'global', 'sourcing', 'Excellent', 'English', 'and', 'Chinese', 'written', 'and', 'verbal', 'communication', 'skills', 'Experience', 'in', 'organizing', '', 'analyzing', 'and', 'presenting', 'data', 'Excellent', 'negotiating', 'skills', 'Proven', 'ability', 'to', 'influence', 'cross-functional', 'teams', 'without', 'formal', 'authority', 'Experience', 'in', 'product', 'life', 'cycle', 'management', 'Must', 'possess', 'or', 'be', 'eligible', 'to', 'obtain', 'a', 'passport', 'and', 'VISA', 'for', 'travel', 'Essentials', 'of', 'the', 'Job']\n"
     ]
    }
   ],
   "source": [
    "r1.createlist()"
   ]
  },
  {
   "cell_type": "code",
   "execution_count": 10,
   "metadata": {},
   "outputs": [],
   "source": [
    "remydict = r1.findCount()"
   ]
  },
  {
   "cell_type": "code",
   "execution_count": 11,
   "metadata": {},
   "outputs": [
    {
     "name": "stdout",
     "output_type": "stream",
     "text": [
      "{'': 16, 'and': 12, 'to': 6, 'a': 4, 'management': 4, 'product': 4, 'skills': 4, 'Experience': 3, 'in': 3, 'Qualifications': 2, 'of': 2, 'plus': 2, 'the': 2, 'ability': 2, 'are': 2, 'quality': 2, 'degree': 2, 'or': 2, 'Demonstrated': 2, 'with': 2, 'Excellent': 2, 'Basic': 1, 'Self-motivated': 1, 'results': 1, 'driven': 1, 'Ability': 1, 'build': 1, 'strong': 1, 'internal': 1, 'external': 1, 'relationships': 1, 'Knowledge': 1, 'Amazon’s': 1, 'retail': 1, 'tools': 1, 'is': 1, 'Attention': 1, 'detail': 1, 'communicate': 1, 'clearly': 1, 'effectively': 1, 'negotiations': 1, 'pricing': 1, 'lean': 1, 'supply': 1, 'chain': 1, 'international': 1, 'logistics': 1, 'compliance': 1, 'development': 1, 'branding': 1, 'packaging': 1, 'importing': 1, 'Understand': 1, 'manufacturing': 1, 'assurance': 1, 'processes': 1, 'Data': 1, 'analytical': 1, '(SQL': 1, 'especially)': 1, 'project': 1, 'major': 1, 'pluses': 1, 'Preferred': 1, \"Bachelor's\": 1, '(MBA': 1, 'Advanced': 1, 'Engineering': 1, 'preferred)': 1, 'success': 1, 'defining': 1, 'launching': 1, 'excellent': 1, 'products': 1, 'Be': 1, 'an': 1, 'expert': 1, 'respect': 1, 'focus': 1, 'on': 1, 'performance': 1, 'knowledge': 1, 'global': 1, 'sourcing': 1, 'English': 1, 'Chinese': 1, 'written': 1, 'verbal': 1, 'communication': 1, 'organizing': 1, 'analyzing': 1, 'presenting': 1, 'data': 1, 'negotiating': 1, 'Proven': 1, 'influence': 1, 'cross-functional': 1, 'teams': 1, 'without': 1, 'formal': 1, 'authority': 1, 'life': 1, 'cycle': 1, 'Must': 1, 'possess': 1, 'be': 1, 'eligible': 1, 'obtain': 1, 'passport': 1, 'VISA': 1, 'for': 1, 'travel': 1, 'Essentials': 1, 'Job': 1}\n"
     ]
    }
   ],
   "source": [
    "print(remydict)"
   ]
  },
  {
   "cell_type": "code",
   "execution_count": 12,
   "metadata": {},
   "outputs": [],
   "source": [
    "def cleardata(mydict, words):\n",
    "    \"This function use to delete the common words, and return to a finial result\"\n",
    "    \n",
    "    for word in words:\n",
    "        mydict.pop(word)\n",
    "    print(mydict)"
   ]
  },
  {
   "cell_type": "code",
   "execution_count": 13,
   "metadata": {},
   "outputs": [
    {
     "name": "stdout",
     "output_type": "stream",
     "text": [
      "Input clear value and only seperated by comma:,and,to,a,in,of,the,or,are\n",
      "['', 'and', 'to', 'a', 'in', 'of', 'the', 'or', 'are']\n",
      "{'management': 4, 'product': 4, 'skills': 4, 'Experience': 3, 'Qualifications': 2, 'plus': 2, 'ability': 2, 'quality': 2, 'degree': 2, 'Demonstrated': 2, 'with': 2, 'Excellent': 2, 'Basic': 1, 'Self-motivated': 1, 'results': 1, 'driven': 1, 'Ability': 1, 'build': 1, 'strong': 1, 'internal': 1, 'external': 1, 'relationships': 1, 'Knowledge': 1, 'Amazon’s': 1, 'retail': 1, 'tools': 1, 'is': 1, 'Attention': 1, 'detail': 1, 'communicate': 1, 'clearly': 1, 'effectively': 1, 'negotiations': 1, 'pricing': 1, 'lean': 1, 'supply': 1, 'chain': 1, 'international': 1, 'logistics': 1, 'compliance': 1, 'development': 1, 'branding': 1, 'packaging': 1, 'importing': 1, 'Understand': 1, 'manufacturing': 1, 'assurance': 1, 'processes': 1, 'Data': 1, 'analytical': 1, '(SQL': 1, 'especially)': 1, 'project': 1, 'major': 1, 'pluses': 1, 'Preferred': 1, \"Bachelor's\": 1, '(MBA': 1, 'Advanced': 1, 'Engineering': 1, 'preferred)': 1, 'success': 1, 'defining': 1, 'launching': 1, 'excellent': 1, 'products': 1, 'Be': 1, 'an': 1, 'expert': 1, 'respect': 1, 'focus': 1, 'on': 1, 'performance': 1, 'knowledge': 1, 'global': 1, 'sourcing': 1, 'English': 1, 'Chinese': 1, 'written': 1, 'verbal': 1, 'communication': 1, 'organizing': 1, 'analyzing': 1, 'presenting': 1, 'data': 1, 'negotiating': 1, 'Proven': 1, 'influence': 1, 'cross-functional': 1, 'teams': 1, 'without': 1, 'formal': 1, 'authority': 1, 'life': 1, 'cycle': 1, 'Must': 1, 'possess': 1, 'be': 1, 'eligible': 1, 'obtain': 1, 'passport': 1, 'VISA': 1, 'for': 1, 'travel': 1, 'Essentials': 1, 'Job': 1}\n",
      "None\n"
     ]
    }
   ],
   "source": [
    "# keys = ['','and','to', 'a', 'in','of','the','or','with','are']\n",
    "keys = input(\"Input clear value and only seperated by comma:\").split(\",\") # Note the keys vaule, enure it is a right output type.\n",
    "print(keys)\n",
    "finalresult = cleardata(remydict,keys)\n",
    "print(finalresult)"
   ]
  }
 ],
 "metadata": {
  "kernelspec": {
   "display_name": "Python 3",
   "language": "python",
   "name": "python3"
  },
  "language_info": {
   "codemirror_mode": {
    "name": "ipython",
    "version": 3
   },
   "file_extension": ".py",
   "mimetype": "text/x-python",
   "name": "python",
   "nbconvert_exporter": "python",
   "pygments_lexer": "ipython3",
   "version": "3.8.5"
  }
 },
 "nbformat": 4,
 "nbformat_minor": 4
}
