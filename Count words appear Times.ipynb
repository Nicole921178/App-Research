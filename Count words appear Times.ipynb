{
 "cells": [
  {
   "cell_type": "code",
   "execution_count": 1,
   "metadata": {},
   "outputs": [
    {
     "name": "stdout",
     "output_type": "stream",
     "text": [
      "Basic,Qualifications,Self-motivated,and,results,driven,,Ability,to,build,strong,internal,and,external,relationships,,Knowledge,of,Amazon’s,retail,tools,is,a,plus,,Attention,to,detail,and,the,ability,to,communicate,clearly,and,effectively,Experience,in,negotiations,,pricing,,lean,supply,chain,management,,international,logistics,,product,compliance,,product,development,,branding,,packaging,,importing,are,a,plus,,Understand,manufacturing,and,quality,assurance,processes,,Data,analytical,skills,(SQL,especially),and,project,management,skills,are,major,pluses,Preferred,Qualifications,Bachelor's,degree,(MBA,or,Advanced,Engineering,degree,preferred),,Demonstrated,success,defining,and,launching,excellent,products,Be,an,expert,with,respect,to,product,management,with,a,focus,on,quality,and,performance,,Demonstrated,knowledge,global,sourcing,Excellent,English,and,Chinese,written,and,verbal,communication,skills,Experience,in,organizing,,analyzing,and,presenting,data,Excellent,negotiating,skills,Proven,ability,to,influence,cross-functional,teams,without,formal,authority,Experience,in,product,life,cycle,management,Must,possess,or,be,eligible,to,obtain,a,passport,and,VISA,for,travel,Essentials,of,the,Job\n"
     ]
    }
   ],
   "source": [
    "txt = \"\"\"Basic Qualifications\n",
    "Self-motivated and results driven.\n",
    "Ability to build strong internal and external relationships.\n",
    "Knowledge of Amazon’s retail tools is a plus.\n",
    "Attention to detail and the ability to communicate clearly and effectively\n",
    "Experience in negotiations, pricing, lean supply chain management, international logistics, product compliance, product development, branding, packaging, importing are a plus.\n",
    "Understand manufacturing and quality assurance processes.\n",
    "Data analytical skills (SQL especially) and project management skills are major pluses\n",
    "Preferred Qualifications\n",
    "Bachelor's degree (MBA or Advanced Engineering degree preferred).\n",
    "Demonstrated success defining and launching excellent products\n",
    "Be an expert with respect to product management with a focus on quality and performance.\n",
    "Demonstrated knowledge global sourcing\n",
    "Excellent English and Chinese written and verbal communication skills\n",
    "Experience in organizing, analyzing and presenting data\n",
    "Excellent negotiating skills\n",
    "Proven ability to influence cross-functional teams without formal authority\n",
    "Experience in product life cycle management\n",
    "Must possess or be eligible to obtain a passport and VISA for travel Essentials of the Job\"\"\"\n",
    "\n",
    "x = txt.replace(\" \", \",\")\n",
    "x2 = x.replace(\"\\n\",\",\")\n",
    "x3 = x2.replace(\".\",\",\")\n",
    "print(x3)"
   ]
  },
  {
   "cell_type": "code",
   "execution_count": 2,
   "metadata": {},
   "outputs": [
    {
     "name": "stdout",
     "output_type": "stream",
     "text": [
      "['Basic', 'Qualifications', 'Self-motivated', 'and', 'results', 'driven', '', 'Ability', 'to', 'build', 'strong', 'internal', 'and', 'external', 'relationships', '', 'Knowledge', 'of', 'Amazon’s', 'retail', 'tools', 'is', 'a', 'plus', '', 'Attention', 'to', 'detail', 'and', 'the', 'ability', 'to', 'communicate', 'clearly', 'and', 'effectively', 'Experience', 'in', 'negotiations', '', 'pricing', '', 'lean', 'supply', 'chain', 'management', '', 'international', 'logistics', '', 'product', 'compliance', '', 'product', 'development', '', 'branding', '', 'packaging', '', 'importing', 'are', 'a', 'plus', '', 'Understand', 'manufacturing', 'and', 'quality', 'assurance', 'processes', '', 'Data', 'analytical', 'skills', '(SQL', 'especially)', 'and', 'project', 'management', 'skills', 'are', 'major', 'pluses', 'Preferred', 'Qualifications', \"Bachelor's\", 'degree', '(MBA', 'or', 'Advanced', 'Engineering', 'degree', 'preferred)', '', 'Demonstrated', 'success', 'defining', 'and', 'launching', 'excellent', 'products', 'Be', 'an', 'expert', 'with', 'respect', 'to', 'product', 'management', 'with', 'a', 'focus', 'on', 'quality', 'and', 'performance', '', 'Demonstrated', 'knowledge', 'global', 'sourcing', 'Excellent', 'English', 'and', 'Chinese', 'written', 'and', 'verbal', 'communication', 'skills', 'Experience', 'in', 'organizing', '', 'analyzing', 'and', 'presenting', 'data', 'Excellent', 'negotiating', 'skills', 'Proven', 'ability', 'to', 'influence', 'cross-functional', 'teams', 'without', 'formal', 'authority', 'Experience', 'in', 'product', 'life', 'cycle', 'management', 'Must', 'possess', 'or', 'be', 'eligible', 'to', 'obtain', 'a', 'passport', 'and', 'VISA', 'for', 'travel', 'Essentials', 'of', 'the', 'Job']\n"
     ]
    }
   ],
   "source": [
    "txtlist = x3.split(\",\")\n",
    "print(txtlist)"
   ]
  },
  {
   "cell_type": "code",
   "execution_count": 3,
   "metadata": {},
   "outputs": [
    {
     "name": "stdout",
     "output_type": "stream",
     "text": [
      "{'Basic': 1, 'Qualifications': 2, 'Self-motivated': 1, 'and': 12, 'results': 1, 'driven': 1, '': 16, 'Ability': 1, 'to': 6, 'build': 1, 'strong': 1, 'internal': 1, 'external': 1, 'relationships': 1, 'Knowledge': 1, 'of': 2, 'Amazon’s': 1, 'retail': 1, 'tools': 1, 'is': 1, 'a': 4, 'plus': 2, 'Attention': 1, 'detail': 1, 'the': 2, 'ability': 2, 'communicate': 1, 'clearly': 1, 'effectively': 1, 'Experience': 3, 'in': 3, 'negotiations': 1, 'pricing': 1, 'lean': 1, 'supply': 1, 'chain': 1, 'management': 4, 'international': 1, 'logistics': 1, 'product': 4, 'compliance': 1, 'development': 1, 'branding': 1, 'packaging': 1, 'importing': 1, 'are': 2, 'Understand': 1, 'manufacturing': 1, 'quality': 2, 'assurance': 1, 'processes': 1, 'Data': 1, 'analytical': 1, 'skills': 4, '(SQL': 1, 'especially)': 1, 'project': 1, 'major': 1, 'pluses': 1, 'Preferred': 1, \"Bachelor's\": 1, 'degree': 2, '(MBA': 1, 'or': 2, 'Advanced': 1, 'Engineering': 1, 'preferred)': 1, 'Demonstrated': 2, 'success': 1, 'defining': 1, 'launching': 1, 'excellent': 1, 'products': 1, 'Be': 1, 'an': 1, 'expert': 1, 'with': 2, 'respect': 1, 'focus': 1, 'on': 1, 'performance': 1, 'knowledge': 1, 'global': 1, 'sourcing': 1, 'Excellent': 2, 'English': 1, 'Chinese': 1, 'written': 1, 'verbal': 1, 'communication': 1, 'organizing': 1, 'analyzing': 1, 'presenting': 1, 'data': 1, 'negotiating': 1, 'Proven': 1, 'influence': 1, 'cross-functional': 1, 'teams': 1, 'without': 1, 'formal': 1, 'authority': 1, 'life': 1, 'cycle': 1, 'Must': 1, 'possess': 1, 'be': 1, 'eligible': 1, 'obtain': 1, 'passport': 1, 'VISA': 1, 'for': 1, 'travel': 1, 'Essentials': 1, 'Job': 1}\n"
     ]
    }
   ],
   "source": [
    "# from collections import Counter\n",
    "# mydict =Counter(txtlist)\n",
    "mydict = {x:txtlist.count(x) for x in txtlist}\n",
    "\n",
    "print(mydict)"
   ]
  },
  {
   "cell_type": "code",
   "execution_count": 4,
   "metadata": {},
   "outputs": [
    {
     "name": "stdout",
     "output_type": "stream",
     "text": [
      "{'': 16, 'and': 12, 'to': 6, 'a': 4, 'management': 4, 'product': 4, 'skills': 4, 'Experience': 3, 'in': 3, 'Qualifications': 2, 'of': 2, 'plus': 2, 'the': 2, 'ability': 2, 'are': 2, 'quality': 2, 'degree': 2, 'or': 2, 'Demonstrated': 2, 'with': 2, 'Excellent': 2, 'Basic': 1, 'Self-motivated': 1, 'results': 1, 'driven': 1, 'Ability': 1, 'build': 1, 'strong': 1, 'internal': 1, 'external': 1, 'relationships': 1, 'Knowledge': 1, 'Amazon’s': 1, 'retail': 1, 'tools': 1, 'is': 1, 'Attention': 1, 'detail': 1, 'communicate': 1, 'clearly': 1, 'effectively': 1, 'negotiations': 1, 'pricing': 1, 'lean': 1, 'supply': 1, 'chain': 1, 'international': 1, 'logistics': 1, 'compliance': 1, 'development': 1, 'branding': 1, 'packaging': 1, 'importing': 1, 'Understand': 1, 'manufacturing': 1, 'assurance': 1, 'processes': 1, 'Data': 1, 'analytical': 1, '(SQL': 1, 'especially)': 1, 'project': 1, 'major': 1, 'pluses': 1, 'Preferred': 1, \"Bachelor's\": 1, '(MBA': 1, 'Advanced': 1, 'Engineering': 1, 'preferred)': 1, 'success': 1, 'defining': 1, 'launching': 1, 'excellent': 1, 'products': 1, 'Be': 1, 'an': 1, 'expert': 1, 'respect': 1, 'focus': 1, 'on': 1, 'performance': 1, 'knowledge': 1, 'global': 1, 'sourcing': 1, 'English': 1, 'Chinese': 1, 'written': 1, 'verbal': 1, 'communication': 1, 'organizing': 1, 'analyzing': 1, 'presenting': 1, 'data': 1, 'negotiating': 1, 'Proven': 1, 'influence': 1, 'cross-functional': 1, 'teams': 1, 'without': 1, 'formal': 1, 'authority': 1, 'life': 1, 'cycle': 1, 'Must': 1, 'possess': 1, 'be': 1, 'eligible': 1, 'obtain': 1, 'passport': 1, 'VISA': 1, 'for': 1, 'travel': 1, 'Essentials': 1, 'Job': 1}\n"
     ]
    }
   ],
   "source": [
    "remydict = {k:v for k,v in sorted(mydict.items(),key = lambda item: item[1],reverse = True)}\n",
    "print(remydict)"
   ]
  },
  {
   "cell_type": "code",
   "execution_count": 5,
   "metadata": {},
   "outputs": [],
   "source": [
    "def removekey(d, key):\n",
    "    r = dict(d)\n",
    "    for i in key:\n",
    "        del r[i]\n",
    "    return r"
   ]
  },
  {
   "cell_type": "code",
   "execution_count": 6,
   "metadata": {},
   "outputs": [
    {
     "name": "stdout",
     "output_type": "stream",
     "text": [
      "Input clear value,and sepeate only with comma:and\n"
     ]
    },
    {
     "ename": "NameError",
     "evalue": "name 'keys' is not defined",
     "output_type": "error",
     "traceback": [
      "\u001b[1;31m---------------------------------------------------------------------------\u001b[0m",
      "\u001b[1;31mNameError\u001b[0m                                 Traceback (most recent call last)",
      "\u001b[1;32m<ipython-input-6-38dec694f5b0>\u001b[0m in \u001b[0;36m<module>\u001b[1;34m\u001b[0m\n\u001b[0;32m      3\u001b[0m \u001b[0mwords\u001b[0m \u001b[1;33m=\u001b[0m \u001b[0minput\u001b[0m\u001b[1;33m(\u001b[0m\u001b[1;34m\"Input clear value,and sepeate only with comma:\"\u001b[0m\u001b[1;33m)\u001b[0m\u001b[1;33m.\u001b[0m\u001b[0msplit\u001b[0m\u001b[1;33m(\u001b[0m\u001b[1;34m\",\"\u001b[0m\u001b[1;33m)\u001b[0m\u001b[1;33m\u001b[0m\u001b[1;33m\u001b[0m\u001b[0m\n\u001b[0;32m      4\u001b[0m \u001b[1;33m\u001b[0m\u001b[0m\n\u001b[1;32m----> 5\u001b[1;33m \u001b[0mnewdcc\u001b[0m \u001b[1;33m=\u001b[0m \u001b[0mremovekey\u001b[0m\u001b[1;33m(\u001b[0m\u001b[0mremydict\u001b[0m\u001b[1;33m,\u001b[0m\u001b[0mkeys\u001b[0m\u001b[1;33m)\u001b[0m\u001b[1;33m\u001b[0m\u001b[1;33m\u001b[0m\u001b[0m\n\u001b[0m\u001b[0;32m      6\u001b[0m \u001b[0mprint\u001b[0m\u001b[1;33m(\u001b[0m\u001b[0mnewdcc\u001b[0m\u001b[1;33m)\u001b[0m\u001b[1;33m\u001b[0m\u001b[1;33m\u001b[0m\u001b[0m\n",
      "\u001b[1;31mNameError\u001b[0m: name 'keys' is not defined"
     ]
    }
   ],
   "source": [
    "#keys = ['','and','to', 'a', 'in','of','the','or','with','are']\n",
    "\n",
    "words = input(\"Input clear value,and sepeate only with comma:\").split(\",\")\n",
    "\n",
    "newdcc = removekey(remydict,keys)\n",
    "print(newdcc)"
   ]
  },
  {
   "cell_type": "code",
   "execution_count": null,
   "metadata": {},
   "outputs": [],
   "source": []
  }
 ],
 "metadata": {
  "kernelspec": {
   "display_name": "Python 3",
   "language": "python",
   "name": "python3"
  },
  "language_info": {
   "codemirror_mode": {
    "name": "ipython",
    "version": 3
   },
   "file_extension": ".py",
   "mimetype": "text/x-python",
   "name": "python",
   "nbconvert_exporter": "python",
   "pygments_lexer": "ipython3",
   "version": "3.8.5"
  }
 },
 "nbformat": 4,
 "nbformat_minor": 4
}
